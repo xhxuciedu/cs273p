{
  "cells": [
    {
      "cell_type": "markdown",
      "metadata": {
        "id": "view-in-github",
        "colab_type": "text"
      },
      "source": [
        "<a href=\"https://colab.research.google.com/github/xhxuciedu/cs273p/blob/main/_downloads/9cf2d4ead514e661e20d2070c9bf7324/transformer_tutorial.ipynb\" target=\"_parent\"><img src=\"https://colab.research.google.com/assets/colab-badge.svg\" alt=\"Open In Colab\"/></a>"
      ]
    },
    {
      "cell_type": "code",
      "execution_count": 1,
      "metadata": {
        "id": "5jLoyDjVrWOO"
      },
      "outputs": [],
      "source": [
        "# For tips on running notebooks in Google Colab, see\n",
        "# https://pytorch.org/tutorials/beginner/colab\n",
        "%matplotlib inline"
      ]
    },
    {
      "cell_type": "markdown",
      "metadata": {
        "id": "ZTQLhfpUrWOQ"
      },
      "source": [
        "\n",
        "# Language Modeling with ``nn.Transformer`` and torchtext\n",
        "\n",
        "This is a tutorial on training a model to predict the next word in a sequence using the\n",
        "[nn.Transformer](https://pytorch.org/docs/stable/generated/torch.nn.Transformer.html)_ module.\n",
        "\n",
        "The PyTorch 1.2 release includes a standard transformer module based on the\n",
        "paper [Attention is All You Need](https://arxiv.org/pdf/1706.03762.pdf)_.\n",
        "Compared to Recurrent Neural Networks (RNNs), the transformer model has proven\n",
        "to be superior in quality for many sequence-to-sequence tasks while being more\n",
        "parallelizable. The ``nn.Transformer`` module relies entirely on an attention\n",
        "mechanism (implemented as\n",
        "[nn.MultiheadAttention](https://pytorch.org/docs/stable/generated/torch.nn.MultiheadAttention.html)_)\n",
        "to draw global dependencies between input and output. The ``nn.Transformer``\n",
        "module is highly modularized such that a single component (e.g.,\n",
        "[nn.TransformerEncoder](https://pytorch.org/docs/stable/generated/torch.nn.TransformerEncoder.html)_)\n",
        "can be easily adapted/composed.\n",
        "\n",
        "<img src=\"file://../_static/img/transformer_architecture.jpg\">\n"
      ]
    },
    {
      "cell_type": "markdown",
      "metadata": {
        "id": "WJyBxBXwrWOS"
      },
      "source": [
        "## Define the model\n",
        "\n",
        "\n"
      ]
    },
    {
      "cell_type": "markdown",
      "metadata": {
        "id": "jIqo3D59rWOS"
      },
      "source": [
        "In this tutorial, we train a ``nn.TransformerEncoder`` model on a\n",
        "causal language modeling task. Please note that this tutorial does not cover\n",
        "the training of [nn.TransformerDecoder](https://pytorch.org/docs/stable/generated/torch.nn.TransformerDecoder.html#torch.nn.TransformerDecoder)_, as depicted in\n",
        "the right half of the diagram above. The language modeling task is to assign a\n",
        "probability for the likelihood of a given word (or a sequence of words)\n",
        "to follow a sequence of words. A sequence of tokens are passed to the embedding\n",
        "layer first, followed by a positional encoding layer to account for the order\n",
        "of the word (see the next paragraph for more details). The\n",
        "``nn.TransformerEncoder`` consists of multiple layers of\n",
        "[nn.TransformerEncoderLayer](https://pytorch.org/docs/stable/generated/torch.nn.TransformerEncoderLayer.html)_.\n",
        "Along with the input sequence, a square attention mask is required because the\n",
        "self-attention layers in ``nn.TransformerDecoder`` are only allowed to attend\n",
        "the earlier positions in the sequence. For the language modeling task, any\n",
        "tokens on the future positions should be masked.  This masking, combined with fact that\n",
        "the output embeddings are offset with later positions ensures that the\n",
        "predictions for position i can depend only on the known outputs at positions less than i.\n",
        "To produce a probability  distribution over output words, the output of the ``nn.TransformerEncoder``\n",
        "model is passed through a linear layer to output unnormalized logits.\n",
        "The log-softmax function isn't applied here due to the later use of\n",
        "[CrossEntropyLoss](https://pytorch.org/docs/stable/generated/torch.nn.CrossEntropyLoss.html)_,\n",
        "which requires the inputs to be unnormalized logits.\n",
        "\n",
        "\n"
      ]
    },
    {
      "cell_type": "code",
      "execution_count": 2,
      "metadata": {
        "id": "VmfEX3KbrWOS"
      },
      "outputs": [],
      "source": [
        "import math\n",
        "import os\n",
        "from tempfile import TemporaryDirectory\n",
        "from typing import Tuple\n",
        "\n",
        "import torch\n",
        "from torch import nn, Tensor\n",
        "from torch.nn import TransformerEncoder, TransformerEncoderLayer\n",
        "from torch.utils.data import dataset\n",
        "\n",
        "class TransformerModel(nn.Module):\n",
        "\n",
        "    def __init__(self, ntoken: int, d_model: int, nhead: int, d_hid: int,\n",
        "                 nlayers: int, dropout: float = 0.5):\n",
        "        super().__init__()\n",
        "        self.model_type = 'Transformer'\n",
        "        self.pos_encoder = PositionalEncoding(d_model, dropout)\n",
        "        encoder_layers = TransformerEncoderLayer(d_model, nhead, d_hid, dropout)\n",
        "        self.transformer_encoder = TransformerEncoder(encoder_layers, nlayers)\n",
        "        self.embedding = nn.Embedding(ntoken, d_model)\n",
        "        self.d_model = d_model\n",
        "        self.linear = nn.Linear(d_model, ntoken)\n",
        "\n",
        "        self.init_weights()\n",
        "\n",
        "    def init_weights(self) -> None:\n",
        "        initrange = 0.1\n",
        "        self.embedding.weight.data.uniform_(-initrange, initrange)\n",
        "        self.linear.bias.data.zero_()\n",
        "        self.linear.weight.data.uniform_(-initrange, initrange)\n",
        "\n",
        "    def forward(self, src: Tensor, src_mask: Tensor = None) -> Tensor:\n",
        "        \"\"\"\n",
        "        Arguments:\n",
        "            src: Tensor, shape ``[seq_len, batch_size]``\n",
        "            src_mask: Tensor, shape ``[seq_len, seq_len]``\n",
        "\n",
        "        Returns:\n",
        "            output Tensor of shape ``[seq_len, batch_size, ntoken]``\n",
        "        \"\"\"\n",
        "        src = self.embedding(src) * math.sqrt(self.d_model)\n",
        "        src = self.pos_encoder(src)\n",
        "        if src_mask is None:\n",
        "            \"\"\"Generate a square causal mask for the sequence. The masked positions are filled with float('-inf').\n",
        "            Unmasked positions are filled with float(0.0).\n",
        "            \"\"\"\n",
        "            src_mask = nn.Transformer.generate_square_subsequent_mask(len(src)).to(device)\n",
        "        output = self.transformer_encoder(src, src_mask)\n",
        "        output = self.linear(output)\n",
        "        return output"
      ]
    },
    {
      "cell_type": "markdown",
      "metadata": {
        "id": "8J0kHng9rWOT"
      },
      "source": [
        "``PositionalEncoding`` module injects some information about the\n",
        "relative or absolute position of the tokens in the sequence. The\n",
        "positional encodings have the same dimension as the embeddings so that\n",
        "the two can be summed. Here, we use ``sine`` and ``cosine`` functions of\n",
        "different frequencies.\n",
        "\n",
        "\n"
      ]
    },
    {
      "cell_type": "code",
      "execution_count": 3,
      "metadata": {
        "id": "ojXl2GmdrWOT"
      },
      "outputs": [],
      "source": [
        "class PositionalEncoding(nn.Module):\n",
        "\n",
        "    def __init__(self, d_model: int, dropout: float = 0.1, max_len: int = 5000):\n",
        "        super().__init__()\n",
        "        self.dropout = nn.Dropout(p=dropout)\n",
        "\n",
        "        position = torch.arange(max_len).unsqueeze(1)\n",
        "        div_term = torch.exp(torch.arange(0, d_model, 2) * (-math.log(10000.0) / d_model))\n",
        "        pe = torch.zeros(max_len, 1, d_model)\n",
        "        pe[:, 0, 0::2] = torch.sin(position * div_term)\n",
        "        pe[:, 0, 1::2] = torch.cos(position * div_term)\n",
        "        self.register_buffer('pe', pe)\n",
        "\n",
        "    def forward(self, x: Tensor) -> Tensor:\n",
        "        \"\"\"\n",
        "        Arguments:\n",
        "            x: Tensor, shape ``[seq_len, batch_size, embedding_dim]``\n",
        "        \"\"\"\n",
        "        x = x + self.pe[:x.size(0)]\n",
        "        return self.dropout(x)"
      ]
    },
    {
      "cell_type": "markdown",
      "metadata": {
        "id": "Xy_cxRn2rWOT"
      },
      "source": [
        "## Load and batch data\n",
        "\n",
        "\n"
      ]
    },
    {
      "cell_type": "markdown",
      "metadata": {
        "id": "Iamy6LWqrWOT"
      },
      "source": [
        "This tutorial uses ``torchtext`` to generate Wikitext-2 dataset.\n",
        "To access torchtext datasets, please install torchdata following instructions at https://github.com/pytorch/data.\n",
        "%%"
      ]
    },
    {
      "cell_type": "code",
      "execution_count": 4,
      "metadata": {
        "id": "beG4RaxjrWOU",
        "outputId": "4247c28d-d59e-4eb9-ec14-a18e3de774e9",
        "colab": {
          "base_uri": "https://localhost:8080/"
        }
      },
      "outputs": [
        {
          "output_type": "stream",
          "name": "stdout",
          "text": [
            "Collecting portalocker\n",
            "  Downloading portalocker-2.8.2-py3-none-any.whl (17 kB)\n",
            "Installing collected packages: portalocker\n",
            "Successfully installed portalocker-2.8.2\n",
            "Requirement already satisfied: torchdata in /usr/local/lib/python3.10/dist-packages (0.7.0)\n",
            "Requirement already satisfied: urllib3>=1.25 in /usr/local/lib/python3.10/dist-packages (from torchdata) (2.0.7)\n",
            "Requirement already satisfied: requests in /usr/local/lib/python3.10/dist-packages (from torchdata) (2.31.0)\n",
            "Requirement already satisfied: torch==2.1.0 in /usr/local/lib/python3.10/dist-packages (from torchdata) (2.1.0+cu121)\n",
            "Requirement already satisfied: filelock in /usr/local/lib/python3.10/dist-packages (from torch==2.1.0->torchdata) (3.13.1)\n",
            "Requirement already satisfied: typing-extensions in /usr/local/lib/python3.10/dist-packages (from torch==2.1.0->torchdata) (4.9.0)\n",
            "Requirement already satisfied: sympy in /usr/local/lib/python3.10/dist-packages (from torch==2.1.0->torchdata) (1.12)\n",
            "Requirement already satisfied: networkx in /usr/local/lib/python3.10/dist-packages (from torch==2.1.0->torchdata) (3.2.1)\n",
            "Requirement already satisfied: jinja2 in /usr/local/lib/python3.10/dist-packages (from torch==2.1.0->torchdata) (3.1.3)\n",
            "Requirement already satisfied: fsspec in /usr/local/lib/python3.10/dist-packages (from torch==2.1.0->torchdata) (2023.6.0)\n",
            "Requirement already satisfied: triton==2.1.0 in /usr/local/lib/python3.10/dist-packages (from torch==2.1.0->torchdata) (2.1.0)\n",
            "Requirement already satisfied: charset-normalizer<4,>=2 in /usr/local/lib/python3.10/dist-packages (from requests->torchdata) (3.3.2)\n",
            "Requirement already satisfied: idna<4,>=2.5 in /usr/local/lib/python3.10/dist-packages (from requests->torchdata) (3.6)\n",
            "Requirement already satisfied: certifi>=2017.4.17 in /usr/local/lib/python3.10/dist-packages (from requests->torchdata) (2024.2.2)\n",
            "Requirement already satisfied: MarkupSafe>=2.0 in /usr/local/lib/python3.10/dist-packages (from jinja2->torch==2.1.0->torchdata) (2.1.5)\n",
            "Requirement already satisfied: mpmath>=0.19 in /usr/local/lib/python3.10/dist-packages (from sympy->torch==2.1.0->torchdata) (1.3.0)\n"
          ]
        }
      ],
      "source": [
        "%%bash\n",
        "pip install portalocker\n",
        "pip install torchdata"
      ]
    },
    {
      "cell_type": "markdown",
      "metadata": {
        "id": "Mi9nNB3UrWOU"
      },
      "source": [
        "The vocab object is built based on the train dataset and is used to numericalize\n",
        "tokens into tensors. Wikitext-2 represents rare tokens as `<unk>`.\n",
        "\n",
        "Given a 1-D vector of sequential data, ``batchify()`` arranges the data\n",
        "into ``batch_size`` columns. If the data does not divide evenly into\n",
        "``batch_size`` columns, then the data is trimmed to fit. For instance, with\n",
        "the alphabet as the data (total length of 26) and ``batch_size=4``, we would\n",
        "divide the alphabet into sequences of length 6, resulting in 4 of such sequences.\n",
        "\n",
        "\\begin{align}\\begin{bmatrix}\n",
        "  \\text{A} & \\text{B} & \\text{C} & \\ldots & \\text{X} & \\text{Y} & \\text{Z}\n",
        "  \\end{bmatrix}\n",
        "  \\Rightarrow\n",
        "  \\begin{bmatrix}\n",
        "  \\begin{bmatrix}\\text{A} \\\\ \\text{B} \\\\ \\text{C} \\\\ \\text{D} \\\\ \\text{E} \\\\ \\text{F}\\end{bmatrix} &\n",
        "  \\begin{bmatrix}\\text{G} \\\\ \\text{H} \\\\ \\text{I} \\\\ \\text{J} \\\\ \\text{K} \\\\ \\text{L}\\end{bmatrix} &\n",
        "  \\begin{bmatrix}\\text{M} \\\\ \\text{N} \\\\ \\text{O} \\\\ \\text{P} \\\\ \\text{Q} \\\\ \\text{R}\\end{bmatrix} &\n",
        "  \\begin{bmatrix}\\text{S} \\\\ \\text{T} \\\\ \\text{U} \\\\ \\text{V} \\\\ \\text{W} \\\\ \\text{X}\\end{bmatrix}\n",
        "  \\end{bmatrix}\\end{align}\n",
        "\n",
        "Batching enables more parallelizable processing. However, batching means that\n",
        "the model treats each column independently; for example, the dependence of\n",
        "``G`` and ``F`` can not be learned in the example above.\n",
        "\n",
        "\n"
      ]
    },
    {
      "cell_type": "markdown",
      "source": [],
      "metadata": {
        "id": "QWfxmv0NUvry"
      }
    },
    {
      "cell_type": "code",
      "source": [
        "# # Download and load the Wikitext-2 dataset\n",
        "# train_iter = PennTreebank(split='train')\n",
        "\n",
        "\n",
        "# # Iterate through the training data\n",
        "# i = 0\n",
        "# for line in train_iter:\n",
        "#     print(line)  # Each 'line' is a string containing one line of the dataset\n",
        "#     i+= 1\n",
        "#     if i>10: break\n"
      ],
      "metadata": {
        "id": "eIOJyLcyum0P"
      },
      "execution_count": 5,
      "outputs": []
    },
    {
      "cell_type": "markdown",
      "source": [],
      "metadata": {
        "id": "xTmKNf46SJHC"
      }
    },
    {
      "cell_type": "code",
      "execution_count": 6,
      "metadata": {
        "id": "s8wkdacbrWOU"
      },
      "outputs": [],
      "source": [
        "from torchtext.datasets import PennTreebank\n",
        "from torchtext.data.utils import get_tokenizer\n",
        "from torchtext.vocab import build_vocab_from_iterator\n",
        "\n",
        "train_iter = PennTreebank(split='train')\n",
        "tokenizer = get_tokenizer('basic_english')\n",
        "vocab = build_vocab_from_iterator(map(tokenizer, train_iter), specials=['<unk>'])\n",
        "vocab.set_default_index(vocab['<unk>'])\n",
        "\n",
        "def data_process(raw_text_iter: dataset.IterableDataset) -> Tensor:\n",
        "    \"\"\"Converts raw text into a flat Tensor.\"\"\"\n",
        "    data = [torch.tensor(vocab(tokenizer(item)), dtype=torch.long) for item in raw_text_iter]\n",
        "    return torch.cat(tuple(filter(lambda t: t.numel() > 0, data)))\n",
        "\n",
        "# ``train_iter`` was \"consumed\" by the process of building the vocab,\n",
        "# so we have to create it again\n",
        "train_iter, val_iter, test_iter = PennTreebank()\n",
        "train_data = data_process(train_iter)\n",
        "val_data = data_process(val_iter)\n",
        "test_data = data_process(test_iter)\n",
        "\n",
        "device = torch.device('cuda' if torch.cuda.is_available() else 'cpu')\n",
        "\n",
        "def batchify(data: Tensor, bsz: int) -> Tensor:\n",
        "    \"\"\"Divides the data into ``bsz`` separate sequences, removing extra elements\n",
        "    that wouldn't cleanly fit.\n",
        "\n",
        "    Arguments:\n",
        "        data: Tensor, shape ``[N]``\n",
        "        bsz: int, batch size\n",
        "\n",
        "    Returns:\n",
        "        Tensor of shape ``[N // bsz, bsz]``\n",
        "    \"\"\"\n",
        "    seq_len = data.size(0) // bsz\n",
        "    data = data[:seq_len * bsz]\n",
        "    data = data.view(bsz, seq_len).t().contiguous()\n",
        "    return data.to(device)\n",
        "\n",
        "batch_size = 20\n",
        "eval_batch_size = 10\n",
        "train_data = batchify(train_data, batch_size)  # shape ``[seq_len, batch_size]``\n",
        "val_data = batchify(val_data, eval_batch_size)\n",
        "test_data = batchify(test_data, eval_batch_size)"
      ]
    },
    {
      "cell_type": "markdown",
      "metadata": {
        "id": "bd5nKpmNrWOU"
      },
      "source": [
        "### Functions to generate input and target sequence\n",
        "\n",
        "\n"
      ]
    },
    {
      "cell_type": "markdown",
      "metadata": {
        "id": "5vAyV_NorWOU"
      },
      "source": [
        "``get_batch()`` generates a pair of input-target sequences for\n",
        "the transformer model. It subdivides the source data into chunks of\n",
        "length ``bptt``. For the language modeling task, the model needs the\n",
        "following words as ``Target``. For example, with a ``bptt`` value of 2,\n",
        "we’d get the following two Variables for ``i`` = 0:\n",
        "\n",
        "<img src=\"file://../_static/img/transformer_input_target.png\">\n",
        "\n",
        "It should be noted that the chunks are along dimension 0, consistent\n",
        "with the ``S`` dimension in the Transformer model. The batch dimension\n",
        "``N`` is along dimension 1.\n",
        "\n",
        "\n"
      ]
    },
    {
      "cell_type": "markdown",
      "source": [
        "![image.png](data:image/png;base64,iVBORw0KGgoAAAANSUhEUgAAAqYAAADqCAIAAAD/HBD2AAAgAElEQVR4AexdB3wVxdafSQfpvQlGeYCkgfJAkJZQpTwfTQEF9FEVqYJSbKDSFESKogQVUEAFC58EkCIqVQGxgQUElGoIBOmEZD+n7uzee/fubbkbOftL7s7uzpw55z9n5uyZtkiDAxAABAABQAAQAASuAwTQdSAjiAgIAAKAACAACAACGph8UAJAABAABAABQOC6QABM/nVRzCAkIAAIAAKAACAAJh90ABAABAABQAAQuC4QAJN/XRQzCAkIAAKAACAACIDJBx0ABAABQAAQAASuCwTA5F8XxQxCAgKAACAACAACYPJBBwABQAAQAAQAgesCATD510Uxg5CAACAACAACgACYfNABQAAQAAQAAUDgukAATP51UcwgJCAACAACgAAgACYfdAAQAAQAAUAAELguEACTf10UMwgJCAACgAAgAAiAyQcdAAQAAUAAEAAErgsEwORfF8UMQgICgAAgAAgAAmDyQQcAAUAAEAAEAIHrAgEw+ddFMYOQgAAgAAgAAoAAmPzQ6sDaNWtWrVqVoR+rMzIy9u7dG9pcgTogAAh4Q6Bfv34PPPgAOR5kJxoWP+zegw880OeBPuwevWOMyRM++KCgcObMGW/ZwnNAIJwIgMkPLfoxMTFIHJgFMB4+fHhocwXqgAAg4A2B6OhoUTU9nXmV5RVX1F+EMP3jP2rio0ePessWngMC4UQATH5o0VeaFdJ8sCZkxIgRoc21wFI/dPDgp59+um7duk/FsW7duuPHjxdYgYBx5yJA6yatkcKyq2cRlgad3GA3xSNxllEQOnrsmHMFdh5nGzZs6NevX//+/fuJo3///l9++aXzOP3ncAQmP7RlGR2te/kI8zYCvHxPoL/wwgtK+8mDb7/9jqf4cB8Q8BuB6OgYxWhjbs/N+qdGUcIeooGX71NxzJo1SwCp479gwQKfiEBknxAAk+8TXD5Hjo6ONrcTGIGX7wnHqVOnspZXBW3x4sWe4sN9QMBvBNRBN2Z4iNaxPnuqf0wJVVUk0ZRHwlyRmyza0aPg5ftQIIrJF9BilJ6e7gMJiOojAmDyfQTMx+isY9/UdoCX7wnFadOm6c0ob0fx22+/7Sk+3AcE/EYgho3lC2strLmwPQZFdHNT2HlSucU/OnLkiN/8XIcJZ8+eLd+WJP5g8kOqCWDyQwqvJsbymdHnWg1evifQXTv2MUaLF4PJ9wQY3PcfgY4dO7Zt2/Yu48HutG17V7ly5anRN7yuFy1a9K677mrXrh1NRH7btWtHabA7d2VlZfnP0PWX8uWXX1berHgQTH5IFQFMfkjh1QzjhcLug5fvCXSjl8+bAPDyPcEF90OHQPv27ZnJF7WW+PIJCQmhy/E6pKx4+QRm1uECJj+kmgAmP6TwCi9fbzZIMwIm3xPoBi+fNAAEOBjL9wQX3A8dAh3ad+CvnLLHGaHExMTQ5XgdUiZj+XrbSEMwlh9iPQCTH1qAo2P42l9Vsf0w+Xl5edu3b1+4cOGkSZNmzJixcOHCbdu2Xbt2LUDuv/7668WLF0+dOnXGjBnLli0LCs1AWCJePkeK13+E0DvvwIz9QECFtP4g0L59e6KCot6ys09e/s8///ziiy+OHDmye/fuzZo1S05ObtKkyd133/3AAw9Mnjz522+/tWYrMzPzx70//vjjj3v30tOPP/7w4w95eXky1YULF+bNm9e/f/+mTZs2btx42bJl8pEMXL16deXKlQMHDmzXrl3dunXvvPPObt26TZ069dChQzLOoUOHSDaU/g8//PDjjz8ePnxYPrUIHDhwYMZLM+67776WLVumpKQ0bdq0R48eY8aM2bp1q0WqEydOSInGjBlD3qsouAJpNHHiRMYP+d374+nTpy2owSNfEQCT7ytivsU3jeUz3XY1+TNempFAj8TExISEhNq1a9evX5/ldOnSpaeffvrGG2+UrQ9zPjBCJUuWfPrppz0Z/uzsbEaT/BKq5Hjvvfc0TcvJyXnhhRfib46X9U0GKlasOGLECOtq9uCDDzI+OVFKPzs72xM0mzdvJlGoaCxJYmLi9OnTWfyJEyfSh4kJiQkVKlSQraxsAipXriz5T0xMXLVqlaeM4D4gECwERMe+rG0kYMfLz87OfvXVVxs2bMgrrNRjGaAkMUI33njj8OHDL1y44JZnpcdLn2F49epVTdPy8vKmTZtWtlxZWW0RQmPHjjXRWbVqVbmyNI5oO1j7w0Tq168fy7pZs2biOXuCWrZsaSJluty7d+8dd9zBYytMSPrVq1efN2+e+oIiKYwYMYInZIBIWGSAPpZXb7zxhkwLgcARAJMfOIZWFAxj+aKKuJr8MY8/Ll52ee0rWrSopml79uypXbu2fMTqgqwMjF7z5s2PudsAJCsrS2SoNz6vvvrqsWPHZHWlpMiPQpPsHlC9evWffvrJk2CpqamEspoGIYuJS2vWrFHjsvBjjz3G6D/00EOST0NATUMfsBtLlizxxBjcBwSChYA0+Yoaejf5Bw4ciI+nb9K6xhICChGxO4fQ9Tp16rj1ql94Ud+jgiXHCF2hR/fu3Vlqep/THzNmjCr7lClTIiIijFmLLEXixMTEv/76q1nz5pI+i9+6dWuVlBrOy8ubPn16XFycpMXSyks9gFGLFi3++OMPNbmmabrJ57Bw/kVCMz5g8k0ABngJJj9AAL0kZ1vx6G/ptEq5mvzHH3uMaLzQdoxQsaLFjhw5Ur4CmzYsqgM/m2tZhfIVXJ3s06dPy2Q8AcYzZsxo0KABXXssfmQkPUCilyhRYt2nn7oVj5t8PT5p0axNvhKXt0KqyTfhY4xMriT/CKGlS5e65QpuAgJBRECafKp+XAGtO/b37t1bqWIlpq5UpQ16rWg1pybvlC9X/ocffjAx/+KLL8oIUv8vX77cpUsXUXUN9KXJv3TpknwnYBQM8YyZd+vWrVmzZpI+i9+qVSsTM+zy4MGDzZunyuqosKcQVYIIofj4eJNDMnLkSLf8S2om+mDy3ZaF3zfB5PsNna2EMWwsn1UD8kv+3Zh86uXrSo9RXKG4+vXr03Q8mXgfEPaPxKbP6Vn2k0u2Tp06RZ4YqjsqU6YMTyeqHSNCrnRinJHIyEi3A4Spqakirk7fYiyAefkm+o8//jhjddBDg7gcXFBVMJ0+5wkh8PJlEUMgdAh06NBBrV9MKRMSPE7f+/3333nlYvVSqV/lypW74447mjVrWrt2bYxlPTDU306dOplkmTaNePmm+vv+++/z6qHQZ4TGjuVe/qRJk0RlEdWUnT3Ur1jlOyAsYctWbjr2r169mpCQoDCtBC3pJycl/fXXX1I64uVT5sWKfM6WxIURo5yQIJh8CV1QAmDygwKjRyJkLF/qsqiInky+XotFTFobuNEuV66cbC4MJOlFtWrVTIP6wsvXa5Ar/erVq3fs2LFixYqygrGcJf0qVapcuXLFJB7x8vU3CU7fwstfu3atK33p5c+aNauVOP5VowYXXaGfmJgonrdq1ar1xo0bTfzAJSAQdAR0L19WBoQSEj0u0hs6dKhr/YqPj1+9erXK25EjR/7zn/8oJPm7Nsb43Llzakzh5Rvqb0Xai8DrCH9b51WFjeVnZ2eXKFHClX5kZGTz5s2feOKJd9555/HHH2/StElsbKy5VhKCJDu3Xv7kyZP1fAVTRYsW7dCx4zPPPLNs2bIXXnihV69eUVFRJJpSfxFCo0aNkqJt3759PjnS09PTe/ToobzUcKJ9+vShEfjPzz//LNNCIHAEwOQHjqEVBTp9T9QPWkUxcrPhLp+5Kt6bSQKR6M477/ziiy9Yv/25c+fWrVtHpvIZDh7VNK9NHcvXo9O4GKFnn31W3Sls79693bt3N7QUIs3rr79ukjA1LU081M8WJn/N6tUsnkpfmnyV+LRp01TZWaq3YcNdFSMI5wsCusmXVRF5XJf/9wh30aJFibqK+oUwiomJcTst/8qVK5UrV9ZrjqD//fffq5Ip0/fMcVkdiY6Orlu3br++fceNGzdw4MCFCxf+PTN3/PjxSmwWxLGxsR999JFKXNO0rVu3lihRwhyZ8u86lr9///5ChQqp9RchVKdOnd9++81EdtfOnTcpsxkY/ZiYGLdzg8wb7tLcYV2+CdLgXoLJDy6eZmpskZ6oKlSj7XXss9aj5309c3JyTESPHTtWrFgxToueGP2XX35ZjamafP2dmzgVEXPnzlVjsnBubm7v3r1kEyDp33LzLab+A3dj+djK5IvpewIHkoknky8ZkAFYpOdaWHAn1Ahwk6/UL4Swp7H8AwcOSHUlAZqqaZMmnphk4/EyJqsXpu4r1eSr9RchFBEZMW3aNNfut1OnTt1www2ME1l/EULr1q1zy8k333zDJuKZ6Lt6+a1btyZicaIkh/j4eE9rDdavX894kL8Y4cGDB7vyQE0+IcoIM/pg8l2BCuIdMPlBBNMNqago/ZvcRKGpenvq2Keqr9eqyMhI15dolke/fv1MtRQhNGYMHx1ncUTHPq13gipG+P7773fDKL2Vm5tbq1YtVlFV+ovfNnzYxnXGPsJepu+J/GUjYGHyRcMi0oDJ91RecD90CChePlda7Hn3vcOHD0+dOnXqlCnklx7Tpk1bv369J/batm2r1i+Wgckwi459+lDUBYxwkSJFTIMFMpeVK1fKCibpN27cWEZwDdx3330kiULftWN/586d4rkkjxYtWuRKTd5p27atpMnoly1blq0wlHE0TWMb7mLDuwR8VkdFKPhhMPnBx1SlyKbv0Qqj1xrXPfYfJ9P3RCxyJmavQ4f2Kik1vHLl/3FyIhFCuE+fPmoc7uUrEVjd+/zzz9VopvCMGTNYtVbpDxgwQI2WlpbmQtWLyef1X7ZDCMnpeyplvuEuj8Yzgd33VIggnD8I0Ol7eqVkIU9evk8s7dy5MyIiUq1fTNFNrwgvvEBn7LvUtHHjx3nK7sUXX+RkpRHHiG3F4SnJpk2bhMUXOWHUsqVhxj6ZD8joivobGRn1934hnmhqmjbv1VfN2CHs2vLMnjWbv0Qo9MHLtwA28Edg8gPH0IoCW6QnKwzTb89evqywJOK4cR7r9tdff82rinxRQKhNmzYqK6dOnRKVWG8A4uPj1Tiu4dOnT0crPRMspWlrDrpQh+Sv0vc6Y59EJwn4HGQ7HfuMPnj5rsUEd0KNgPDydR0PZI/97OzsrVu3pqend+zYUU7CpVVYp28y+Xxei1LJEMIxMTHHjh33JHv/Af1l/ZLtw4EDBzzF1zQtNzeXTjFm0SkzLtP3WrZsybkkJ1J/S5YqOZsfc+bMmSPC+nns2LGm9uHvdb8zZxpGHjVNk2P5Kv30+fDxXIsSC/QRmPxAEbROz3ff41WJWz2PJl9GoxVwzpw5nogfOXJEVGl6pgmbN2+uxs/KytLpsc5yjNq2bavGcRtW9xJhucTfbHhRYDP2lUm5pB2wYfINLHsy+ZxnZfYzfFbHbTHBzZAiIEy+Xr+Q5+l7Jk6ys7PXr18/adKkrl273nbbbSVLldJroqESiAv62GTyX1Bcdt7zjVH79h57/jRNI/voGQ+MseuQv4lbMpdQtA8stWksv0aNGnb4J2lFNwB5UZFh9p6AkKmzUDf5xpcg8PJNBRTcSzD5wcXTTI2bfKL/+jFi+HBTPNqxL+PQ+ofx8uXLTdHkpWGcnhLGCLmafD1LEed///ufJOIp0LhxY5VbhFB0dLQ6gy+N7L5nioJOnTrlieCaNWt0Tmg6bNmxL6LwRGDyPQEL90OHQAf+JT2uhEzdvXbs7969u0fPnqSfjFVi6hTrym/wfM23zSb/BX33PRb17w2vhgwZYiHyLbfcwuqlrJxFihSxiM8e1ft3PUmfBnDrVobd9wwT+02VUwghc/QsIurQoYOJmVmzZrGXDUGGtCtg8k0oBfcSTH5w8TRTizFsc8Gri0cvX1d8UnM9TdLRNE03+UpVa948Vc2ebcUjaiAnLbfoUmOawl26dtUtuqCvTiSUHfuMKIti7eXTmIIWucCevHyXdwkEi/RMBQSX+YCAOmOfVx7PM/bZvvd9+/YVMV21WK+IRYsVrV2b7GlDDqVOrF+/QZVLfkhaiYKmTp2qxjGFGzduzMlKuhhdvHjRFM10mUC39BYJydm0FY9oxFRGRFicaXJ6YbhDbssbrl0UsmNfT47Q/PT5Jg7hMogIgMkPIphuSAkvn6k9f6N1NflkXb5LfVlj3MRDpa6bfFpXWLUymXxlkZ5OeuDAgSodt+E2bdpwqvoJ//nnnzIy79hXniLLDXc//PBDWe1losfFHvuSrKZpspnT2wny8dy31TgQBgTyAQFDxz5XR4+L9DRNY1trmPScXUZHx9x666133333Y4899v7772dnZ48cOVJWBBogET17+ZQM/XnrrbcsZL///vuNZMmV9Vh+Xl5eLNswX8/EvBVPxYqV6EOddlRUVOVK+lG5Mr3iJ3KfBMW9iuyyUqX7evY0MS9Nvkp/wYIFpmhwGUQEwOQHEUw3pPiGu8qrLkLY1eSzjn1RpfjQlh0vX3aLeezYVysTWQVg7ltzZToxKVFwwsf4ihUrpkaji/TEyhpB37STthr/VTJ913x49PJF8yrHF6FjXwUTwvmDADP5av2yGMtftWqVot/60PRdd921du1a1/Xr0uSr9N2bfFG/GH3r1StPPPGEwgYJYoys3xL27dtnSoIQNo3lpySnmOKUKVMmKKXATL466I8Qmj8fvPygoOueCJh897gE6y7pE+PL8fVa434sX6nbNIhXZxi26lRZMnj5gn6qy/Q9mqWgS8+1a9dW6biGc3NzDUN3tGPutttuU2O2btVKF0b44998840aRw0/9dRTPD6p3Jwfq0V6CnWEMJh8FUwI5w8CfJEe65gWdcjTWD7fN17oLY2OXb9mKzk3fD1S1N8NGwwd+2IrHpE3PVub/Pnz58v6JXhBTZs1lfm6Bvr37y/rpkzS2vhZHf0jPUr9PXnypCs1X+/Mni0W6bG8KX0Yy/cVRp/ig8n3CS6fI4uOfVmbSMDDunxhDEVcO16+iEvOHjv2DY0GsrDNmqZlZGSY+UDo3nvvVSXv1auX9E5IxpS+Bbc9evTUTb0IjR7NP56rUpYd+yp9MPkqRBDOHwTatWunVi4W9mTyGzVqJOoBT1SoUCHXfTMl53fffbcrcQ8mX+8hxGSQy7ApliTIAt999x2JLeq7zGLTpk2mmOxy3759pIES8cXZ3LGfnp6uUOX0Leo7I3716tVLxiMvL8/EhuzYV+mDyTehFNxLMPnBxdNMLSaaevm08pEaRWvV8OEjTPF4x76MQeNlZGSYosnLM2fOINp9qKdwO2OfWk72Q1igsR9++GFJxzXQqXNn3lIo9J9++mk15qhRo7lACv2RI0eqcWQ4MzOzEP+6NhWeU7fYfU/ARJoBkmTevHmSGgQAgfxBoH379tz9FmqLPXxWJycnJy6ukKxfrGrUrVvXE5+XLl0iG/Ir9YvVCXPH/osvMv1X66+1ydc07S75pqLQv+GGG7788ksTP1988UXpMqVJZaPNgsp/K+OM/T/++IO6LgIIym7jxo1dTbjMIisrq0TJkir/hQsXzszMlBFYYJbBy+f0p0yZYooGl0FEAEx+EMF0Q0r18tnrMbbcY1+tVas9m3zasa/GJbUw1Thj39D5zxoVavTj4uJMH+CRfC9ZsiQyMkq89XP6cbGxR48elXE0TZs+fbo0y4IwKlu2rOuYpaZpjz32mIxDKXIvwe1Y/gsvvCClkoFhw4apuUMYEMgHBIzT94gKY4QTE918PDcvL6948eJMyaXSlihRQl3XqjI8ew7rzZZxef3YYJyxb9hwV1Qhryb/yy83m+ovSxoXF9exQ8cZM2Z8+umn06dP79K1Sxz/kp4gTc+Mp1YtzR/PVSYnyl4EPGvWLFUuGT579qzYoFMn7rYWEy9fgYEGcavWhr3/JFkIBAUBMPlBgdEjEW7yFbVGnkw+fdkW9Y7UK4uus9OnTzOSnDA9ua7LN2Sr0I+JiV2yZElubq7kOycnZ968eRERIoWo126XAi9fvpxVZRGbcY3r1at3+PBhSfPPP//s3bu3iEMpiguE3Xv5c+bO0RsJ3ieCihQtMm/evO++/+7w4cPffvutxTxBmTUEAIEAEeDT94yK7unjuc2bN2ceLasJ9PUAzZw505WHhQsXRkREyH5sXiHoyVTf1ddfQpbWX68mX9O0Jk2auKWv1iyjWIxrvXKavHxN0y5cuFCtWjXdPIv2oX379jt37pS7/Vy4cCE9Pf3mm2820Y+JiVG/2ylhWb58ucjV0D40a95s/PjxL7744hNPPLFlyxYZHwKBIwAmP3AMrSgoXr6u227H8sVjXjG9r8s3JUDY1eTrVVSYT06dXhYvXrxdu3ajR49u1apVkSJF9FcClozSj3Vx8TVNu3TpUpkyZUkshQcZrFy5cpMmTSpUqCDz4vVfxqDJ3Hr5W7ZsEa2VoQlQOxWWLFlihTg8AwSCgYCLl0/U19Ps15EjR+raTdWdVA6MO3TokL5gwZo1az755JPXX3+9ffv2xN4r9UupI3jp0qUq42T6nkKUBe2Y/O+++45uqKfQJkFBi1trXr9uv/32+vXrK49JVFeTr2ma8s0eSkrQo28juFq1mypVqsTy4Y+V9sHT2uCDBw9KLt22PwihN954Q4UFwgEiACY/QAC9JFdMvqxzyGqRnlKRTG/9ak7KmntZZcwd+/qGuwrNyMhIPYHS9ChR6HNxPWrUKDVfGWbLgXgsEZmkVMOCfvxNN8WaehGx+8/qXLhwISoqStJwSx9MviwFCIQOAX3GvqgwmJj8BLc57tq1i+9XI3VXVgZ6x3DbXE14BqY5K7qXryS2OZX12LFjd955p2CcnyUZGShfvvyhQ4cM2/TSZ6ZFelLkHj16mGkpeUiypkCbNm0svsFTrlw5N3hIEmDyJfpBCoDJDxKQHsjE8AmxVIXJD/l3Nfl0qEw8FrVozZo1HqjK3fcMZFNTzXvsCwtMo9GsU5s37927t8iB3Wex+Ndu6Ls2vz9u3DhPM3SOHT1Kv7StU+ZUBGl6Jk9vuOGG777/rlixYsy7kPTdLtLTNK1Lly4EJs6CG/omZ8gTRHAfEAgEgQ4d2vPqQ3SQ6iH5eK6bsXyWy+uvvy7iyTrAlZim1utXVFR0nz59ZAVhTxFCTz75hMowXaRn1n87Xj4jcuXKlX79+pFcFP65ILR+de3a9STdX6tZs+aSGZafJ5Ovadprr71WtGgxISGN7oE+o9muXbvLly+rcpnCCxYswLTnw9Q+SJYWvAE785gwC+gSTH5A8HlNLPaqJArMqhPCbrbiYbNjeEXi8byM5csqwVOR6XsuJl+Q0uOkpubk5HS/t7u84zYQFxfn1Zn+5ptv/lXjX26SK5mWKVOGTRUsVkw2EzyFJ5N/6dKltLQ02ci60geT71XrIELgCFAvX1FlqpGeFumx7J555plChQqJeu6queROfHz8xo0bMzMz6WMD/fr//rfKtqljn5Gzb/IZqf3790+aNOmuu+5KSUmpVLFizZo1W7Ro8cwzz+zdu1fm1bBhQwOvGHXu1Fk+dQ0cOnTobyKu/HNhyNs6+StTpswTTzwhh/ld6cg7c+fOVdtJhRlCEjr2JVBBCYDJDwqMHokUKlQoynBERkVFufaWjx07Njo6mkSMjo6Mioymh4WXn5WVFR0dFRlJqMmjRYsWKh/uO//T0licFStW1CZ7a9N6KloejFBERESzZs23bdumkvIUPnfuXJ8+fejwpFJPSRAXLly4V69ecr+OUqVKEeGIfOQnKirKYrf/S5cuvfHGG23btlWHRWQG7yx5xxM/cB8QCBYC06ZN69GjR0/j4XYCiprjiZMnh48YXrlyZTZHj9WvIkWK1K1b9957733//fflnNlhw4Z17969h3Lcd999agf4J5980rNnz/vuu4/8ikAo5rKRgX/j4WnBrZQ0Ly/v3Xff7dGjR5kyZURS0ohghEqVKnVno0bz589XZZEJPQWys7MXLlx47733Nm/ePDExqVq1atVvuaV27dotWrTYuHGjp1Rw3w8EwOT7AVrBSGI0+dyqp6YaPr3z3XffzZ0zd8yYsUMeGfLcc8+9+eabv//+u6/inTp16r333ps0adKjjz46ePDg559//v333z937pyvdFzj5+TkHD9+fO/efdu3b9+1a9fevXstPt7jmhzuAALhQuDSpUv79u3bvHmz25nq4eLKNd+LFy9GRETyV38xoPbSSy+5xnR7Jy8v78SJE99///2mTZt++PHH8+fPu40GN52DAJh855RFkDkxmHw+TRelCi8/yJkBOUAAEAg3Ajk5OaVKlSosjhtooGaNGp52CNA07ZVXXiFuumgfmO3P8LzVd7hFhPwDRQBMfqAIOjY9Mfm8s02ezeP9jmUeGAMEAAE/ELjttttYB7vobydnTzMAzpw5U7VqVR6f9gNihIqXKG494c4PriCJcxAAk++csggyJ8zLN059R6aO/SBnCeQAAUAgrAhMmjSJGnu+QIB57dHR0XPnzjXtd7t79+5bbrnF1D4ghLwO5IdVPsg8UATA5AeKoGPTGzr2WTOAUFqaYSzfscwDY4AAIOAHAn/99VfFShUVF1/YdOrL16hRo0+fPp07d65Ro4brrFuM0E033QTj8X7AXoCSgMkvQIXlG6tZp7OMI3Sk0qcZp+/5RhFiAwKAgOMR+OWXX6pVrarXfdeOfvZGQGLwWb3sXKFixe+++87x8gGDASEAJj8g+Jyc+NSpU0qN5nXbtCmvk/kH3gABQMA/BA4fPly9enUxk4dYeGHbZYjeEHcxwnXq1Pl1/6/+ZQepChACYPILUGH5xqrSsa+/zafBjH3fUITYgECBRCArK2vKlCnx8fFiTE8afm7nhblHVapUSU9PlxsGFEhpgWnbCIDJtw1VQYt47ty5Ll26dO3alf53IeEuXUxfvi9oMjUwwl0AACAASURBVAG/gAAg4AMCubm5GRkZgwYNatu2bc2aNQsXLlyoUKEbb7yxTp06rVq3mjhx4q5duzxtqu1DNhC14CAAJr/glBVwCggAAoAAIAAIBIAAmPwAwIOkgAAgAAgAAoBAwUEATH7BKSvgFBAABAABQAAQCAABMPkBgAdJAQFAABAABACBgoMAmPyCU1bAKSAACAACgAAgEAACYPIDAA+SAgKAACAACAACBQcBMPkFp6yAU0AAEAAEAAFAIAAEwOQHAB4kBQQAAUAAEAAECg4CYPILTlkBp4AAIAAIAAKAQAAIgMkPADxICggAAoAAIAAIFBwEwOQXnLICTgEBQAAQAAQAgQAQAJMfAHiQFBAABAABQAAQKDgIgMkvOGUFnAICgAAgAAgAAgEgACY/APAgKSAACAACgAAgUHAQAJNfcMoKOAUEAAFAABAABAJAAEx+AOBBUkAAEAAEAAFAoOAgACa/4JQVcAoIAAKAACAACASAAJj8AMCDpIAAIAAIAAKAQMFBAEx+wSkr4BQQAAQAAUAAEAgAATD5AYAHSQEBQAAQAAQAgYKDAJj8glNWwCkgAAgAAoAAIBAAAmDyAwAPkgICgAAgAAgAAgUHATD5BaesgFNAABAABAABQCAABMDkBwAeJAUEAAFAABAABAoOAmDyC05ZAaeAACAACAACgEAACIDJDwA8SAoIAAKAACAACBQcBHww+VevXs3IyFi1alUGPVavXs0C6u/q1at37dpVcMQHTgEBQAAQAAQAgfAgkJeXJyyqakgzmHmV1nbHjh3B4s8Hk3/q1CmMMDIfWL9FQ//5z3+CxRzQAQQAAUAAEAAE/qkIXLlyRVpU3ZKyW+yaGt20tBbBQsAHk5+ZmUk4IRwQXsqXL58ojyQeSkpKGjJkSLCYAzqAACAACAACgMA/FYGrV68mJCQkJiYmJSUlJnE7SsKJibGxscTQUsOflpYWLAR8MPmnTp0S7yOEi2effTZYTAAdQAAQAAQAAUAAEJAIpCSncIOLUXhMflZWljD55AwmX5YNBAABQAAQAAQAgSAikJySTAytA7x8PngPJj+IpQukAAFAABAABAABiUBycjI19+SnBXTsS1wgAAgAAr4ioHbX+ZoW4gMCgEA+IJCcnCyny6empgYrR3/G8umrB3ruueeCxQTQAQQAgfxEQJh8UpXzM1/ICxAABGwiYPTywzFjXx3Lx9juWP7+/Qced3+MGTNmzNSpU23KD9EAgesEgdzcXEONGTNGXo6h4ezs7AChUFbWBmTyr169+vjjjzOu1F/J8Pnz5wNkFZIDAgULgaNHj0r9JwFj/X3mmWdsipOSkkJeyTFZIRee6XtkXT5z8KmPYHMsf8OGDcKlIOeoqMhGjRrdc8893egxePBgm/JDNEDgOkEgNzeX1Q5WTVq0aHHDDTewSoTpbJ4/jvwRIBRqlQyE1IULF1RSGKOEhATGfLdu3e65556zZ88GQh/SAgIFDoHffvtN1t+uXbs2btw4MjJS1t+SJUvalIh07IsjbB37fpt8tpT/3//+919//WVT4Osq2jfffDNt2rRhw4Z17969WbPmqampgwYNmjlz5po1aw4ePJiXl3ddoVGghT1+/PiqVatmzZo1fPjw/9z9n0aNGnXr1m3kyJEvvfTSihUr9u3b54d0v//+e3R0NJ+8i9AffwTB5PO3dxyQl09NPnVFECpZstT+/futpbsmjpycHBG8lpub6zZ87do1a2rOeSpFkIFr14hcNjnMy8tj8SUODB+byUMdTRVKFpx96TRNk3KppELNtjV9hjljjHGl8ibFNJWLGkcKJQOeMFm7di213aSm2Df5KXwsn6QKm5cv3jnI2TcvnzYw0wLrxn/rrbciIiMiI6Mi6BEZGYlxREQEbt26tXXpOvbpL7/8MmzY0Pj4eDlNg70bcZwpaAihmjVqLlu61MmGf86cOaRMaHnI0omMjIzAOJKcIpcuWWK/FNauXRsRESHLlxBgh6BvU/fs5xiUmHv37n3wwQdjY+N4uYniI6Upwhjhpk2bfvjhh76WZvPmzckLN6GDg2TyOU+ByH7+/HkqHGGtS5cuXknFxsbSnkqq4AITEz5c+Snd6KioqlWrNqjf4L933z1kyJCtW7d6zSIsERo2bMjYVutvkyZNbDKzaPEiIq4oXw4MRt9//71NCiGNdlvd29SyYpKWLl36zz//tJlv2bJlXfE5cOCAzeShiDZ27Fhd02jIFX89gpBfLV+1UrPnI0aMcMtqbm5umTJlGP1SpUq7jeN6MyWFr8vHCIdvxr4isc3pe6xjnyKCFyxY4CqY/TvNmzfnZcDZYFQRxvj333+3T8cJMbOzs0eNGh0TE8P0hktCmznWrJM74p9IjVFKSp2VK1c6gXlXHmbPns3NmtpsKfx3/E9H11Se7gwcONAAiE6ahjCaMGGip7Rhuf/tt9/effd/ManT9DDqJy9JWdIUluq33DJ79iz7hn/UqNGcOEJHjhwJUEzBEsEzEFJ6xz5G/fr190oqjph8kql1+fLXAgoUl5pBS2pByrx5865cueI1r/yMQE2+kImyjRFq3LixTR4WLVrEdZxJK/D54YcfbFIIabS6deuyAhMFx8oQPfDAAzbzpSbfjI/XPiGbxP2LNm7cOC4Gh55pGC0Agb+bCB7aN4aPJ5OvaVrr1m0oaR+8/OTkJKkVqWnhmrHPtZmcbHpafCyf4jl/frp/xaNp2oEDB/QmlYGnFJXN9w+/cw9uws2bN5crV040uxQa+iMLmMtHNE99QK7S0tLOnTsXXH4Cp0ZNvhBIlA7lnvMfFxdnc9JZbm5u+fLlGQ0dGhUGhCZOdJDJ/+GHH0qULEEY5kxK+dkNXQhzDIxGjhxpE/zHHntM0g+Kly+4xDYZcBtNmnyMbJl86uWLnJX6K0QzIuhO/9l0pp739XTLT7huCi/fwL+PJt+sHQgh55h8rsTkRKeTiTL87LPP7GAuvHwDPuE1+cLL55IRgQzcyRtKBFMMF/0cMdK9l69pWtu2bVlq+x37dMY+56lFi3DM2Od77IvC9tHkE9bT0/03+U8//TQrBI4BfdviYYRq1KxpR/OcEGflypWFChUmxS/tOatH7nSOg2182enYsaN97zB/ROYmX5aHUBKV/zfffNMOM1988QUraAt8nGPyDx06VKlSJb0pkGVqu3xfeuklO7AQk081BAdpLF8WkZ3cPcXhJp/qZ9++fT1Fk/f5tuFM1SVWPuo/4/zpp5+WZMMeaNioEVdaCStC9jv2Fy5ayNNJTKj+OMbku+nYZwzXqlXLTo9LWerh6NWEJnZQx75suIz4y9t00MXNO4EoNd6/Z+HlE5NP1b5UyVI21VV27COMwzqWT2HACD1nb4/9jRs3clwCMPl5eXnxN90k6QgW5A0S2Lx5s00owxjtgw8+iI6Kcss/awapSFSB2A/v4lQkpYmd9u0iZvIpa6L9duH/rrvusoP8sGHDvOLzrDO8/MzMzBo1arCyEbKTK6/8kwgCn4gI/O6773pFhpt8mlngXr7KrdesLSJcuHCBykHY6tevn0VM9oh5+T7hI+kznFVwN27c6DXH/InAvHyBKitabN/kL168WKQ16I9jTH5dDr475bbz/s28fCEjxye8Jp937AvBBG8G/MVDfhZxOP8MDFU/vZt8hErZnrHPFukx+mlh8fKVz+oQYe17+QIp5PdYvljpRylJcqJA2I0BAwbkT/X2O5fDhw+XKFHC9KorKhERJj4+vmPHjoMGDRr00KBWrVpVqVJFiMjOquTYpnfoN7c+JRQd+zq/Kq/sbnR0TFZWlleyVatW1anQkCupCRMmeKWTDxGGDBliLE3KKUYVKlR48sknd+zYcezYsePHj+/evfvDDz/s3r17XFycFE0VKi4u7vTp09YMjx49Wr5LBD5zRXdYgjWWb79jX5WcwlGyRIlatWrdSo9aJFSrZq2aNWrUKFu2bEREhERM55ncIlTGjx9vDVq+PRUd+zqzvo/li5ZAwcdhJl/hTOo9RnFxcb/88os11KJj34CPIzr2VZmYUIY7QtV0xnnIJRYpPguT36ZNG6a0PnXsy2zD07FvNPl2x/Kpl0/xwWj+/PnWmuHpae/evanwyhuVAXJyUbx48QsXLniiEPb7165da9Kkqc61HiK60qxZs88//9zUXZ+Xl/f+++/XTqgtGgOpACQQGRHx66+/hl0uxsCcOXPc1hcpJQt4VYCvvvqKCylTkmt6of84Yiz/4sWL5AXOwC7Rz6SkJE8zmQ8dOmR6oZFSvjJ3rnVRUi+f63/gXr5gm5yt87V+ahzL9+7l8+l7okgZG0OGDvWUy4ULF95Z8k5CQoIESuXcZr+RJ+JBvN+oUSNFSTmPPnj5ixbTNOb2zTEm32PHPhO1VctW1mCSqUtK/WWpwmvyf/jhhxXi+OCDD0SQnydOnMhLkZx01p944gkZ05Bo+fIVK1Z89913nnCgHfukfO2bfL4VD+UjrB37Agn7Xr5I4edY/tmzZwsXLqzUeRbEruMrS3xZCeapbEJ0/8033hA4mPnv3Lnz5cuXPeV79erVtNQ0kdZwHuq5rfRELUT3jV6+ceoBqTG89Fq2bGnNwJgxY3gFI4loKp5UFRzb6Uu0zijwp2zESjbSks1vv/3WgvjPP/9ctFgxmYpJhZH3sbrHH3tcQBCcRXo862B4+ax8bXfsM6j08vWqxn/++ee//vUvIb5+Ll++vAXU+fnI6OVz/fdp+p7UH1X/nbNITwfdGJKa/M7bb1sAbvTyOT7hNfkW3Gqa9tlnn7ltf1avXm2d0NPTu9rexZCzv0hPbsVjp33wlK/rfR/e8YmXTyo3V06bk+T1sXzsp8mfP3++yFNXt5o1a4oLUVkwcuwC/by8vFtrE2fd9RgwYICnDRxkaWVnZycmJpK0Cv4IoWLFil29elVGC2OAmHxRDvKtWLnB5Y6Mijx58qQFn3JoXAFKkBFnslrEAWP5CxfqU66k7GXLljV11bgK+9///peKIltLImt8fLxrTPXOaDZ9j+LiHC//4sWLsqRsm3yZggWwV5OvadrkyZNJbKP+I4RsLgNRkQxFmJh8RT9Z+fpk8k2gsMsff/wxFNz6SrNOnTqcPRf8WaEgjMqWK2cxOEVMvgs++x3TSekKCDH5UmYWoPz7bfLbsOl7CJUsUcI1O7d3kpP03ffC07Ev9tjnRt+mp0WG4UVh+zeWTzrNXI6tW7YULVrUVCiRkZGBL1l2i36AN1etWmWSgLX39rv+lixZIlDk+DOCO3fuDJC3oCQ3Tt8zyUovBdevvPKKpxy///4HmdJgD3XJ+XObuucpo6Dc50ZIckwDJUuW9GryZ86caUxErmJjY625evxx6eUHZ12+5ME6X+unsmMfYdS/v/d1+XKRnlq+dkz++vXrdS0QodjYWK9oW/MfrKfG6Xsc2sZN7K7LX7yYdezLMuEepnM69nVXTwnp7NJQ//4eZ1MZp+/xdE728jfpJl90u9Cz3yb/LmnybU/fS07RTX4B69in1ZtUUz8W6f3000/yjYGQoLX91ltra5p2f69erGZI+gijyZMnB6saB5FO586dOe+8tWInvHz5cpu5XL58uVSpUoY6RrvHXn/9dZsUQhqNd+zLEqLlxHsmdKbJ46bNmnniZMKECaKsOT4I41atWqnlyzRg4sRnPRHJt/uvv/46XUhlaBEQRp9++qk1D2fOnNm8ecvmzZu//PJLFthMD+vOnscee0yiGxwvn+oPDtJYvt0Z+3F0Kx5ezLxv347J/+CDD3SgmUZhXLNmDWuo8+1pw4ZykZ5QXYTuvPNOmwzQrXgoKCy1wMchJv+2umzGPmeOV2ihP6LOki3RtmzZ4lbksmXJNiSKhISUc6YiufJMvXyun2r747fJb9u2LZEZ+zCWn5SUxKEO14a7WVlZtMy5v5Y/Y/liwwSmMAw0/t1eV9cZIXRrrVqu5RfeO3l5eaVLl6bFzflnBVm1atWcnBz7vO3cuXMVOTI+WfUJDZCfn3/+2T6F0MWUY/lUQ7ii9urVKzExSbYIrMpHRHjsiamTQvoPJQWMUHJy8tChw6Tey6cTHTBjPyMjQ2VMlm90VNT06dMvXboUXLRHjx7NKl7w1uVzpAPhk3j5osDsePlxcWI3YqWg7Zh81slBsxL9RQiPf8JxM/YFGEQ1fO3Yl+XL9OrvPYwdMpZPdt+jh4p//foN2E35ixFOSkpyu0xfjuWr+Di8Y19lVcrot8lv06YNK19fOvapyad8hM/LlzDY/niuWF9HFiL76uXn5uZWrlyZwC3zpdj/9ttvmqZdvXq1tOr40pcxhJDTNuLes2ePiX+mQJMmTQqktXVUWjqWLwuJb0PTq1evSZMmibtU4enFzJkzXZnfv3+/rFcyMGXy5KFDh/JLUb4IYSd4+RcuXChatCiXTggpOS9ZsuT//ve/Dz74IFiDzcFdly97ZwP08i9evChEx7bG8rmXL4qUnr2a/O3bt/OtqUVmCKPChQpZzwtx1bHQ3aFj+QpzFF/7Jt+1Y58B5BAvn5p8vf4S3jBatWpVfHw8l1mKjtCUKVNccaZj+TISbx+c3LHPxvIlx1RkcuW3yedb8SBUspTdrXjY9D3GQ3hMvhjL5xbYVy8f+96xv3r1aqb69Jfj37BRQ6lS/fr3kxFk8QwcOFBGcEKALGAjh2CQvewhj51gTuDZVx5mz54txOMFghHq1avXgQMH9AISMRo1auRKf9q0F2RKGpHAdPDgQWnyRWoSywlj+ZqmPfTQQ1I61/IlBY5RZGRkgwYNxo4du27dukAWkT4mZ+zj4HxJT+qja1nYv6OP5SNbY/nMcsvyZTz06dPn119/3b9//6/GY8+ePR999FHfvn3pVwT58DYFHEdFRf3f//2ffT5DHbNhw4aqfrLaHhcXd4tyVK9enV3JgHxInWBBQLQPCDtow10ikWCQqfpnn332ySefuOp/4RsKM5dMxbxs2bJ6alaECDnd5PNxOy4i4z8Ak89n7Jcs5c/Hc8Nj8g3r8jHvXVfL1W1Ynb7nq5d/7733KirF26g5c+bIjHgXgqpNGJUoUSLo3aoyRz8CdOEZkUOyyQKBj8j6wUyIksiOfV1IavI1TXOd2RSB8aFDh0ycNGjQwITPHXfcoWkaMfnygQDRISb/0qVL9evXlyoq2TQHxHVMTEyzZs0mTJjgR0cUH8unmQWuOSqkpoLw6VJ27NM99r2vy4+JIWP5Ag8RkNfqM1lj6FM1Svly5T766COf+Ax1ZKbkkmWhEjrrKv8u0Xh0GUcGHDJjv26dupIlyeumTZs0TevatasQVpQmQq77JciOfT2S802+VFRF+DVr1vinS3wsH6FSPnj59Et6NPfwzNhnJl/OZbC54S61ygwz3zr2s7KyYmPpbmUkNaWAUVRUtLrPybVr7BMsnL6Ih5YtW+ZfwYQiVd9+fSX/UouioqIsPgf+55+Zn9NjEzs+52f1JO85YZ0e7cmQ5cQbgd69e2ua9vLLL9PS41/jYPrzwgsvqFAfOXKETAZSCGCMXn75ZW7yeTuhP3aIydc07fjx4zdWvdG1fIVLpGsmi8OuEUL16tX74IMPrKfsqRCRjn0BQBBMvmy5gzJ9jzJmq2Of1WjdZfSID2VQoEXpM/2oXbt2ZmamiowTwnRVEeVSGkAScMO/bD91AWU6GRD4OMTk33bbbZQjyp9gchP9oM6RI0eKFC3iqv/vvfeeWi70K2IipYAovBvuquy5hj/7jO0TT3gW5UjCAXj57LM62KeteDhU9Gtqrkz6d8fHdfmitBDyxcsXqXzy8l955RWBtRQctWvXziTnI488IsiLM0Zt27Q1RQvj5X//+1/GGVMf2kGGq1WtZsHSiuXLhTDWZ0Ly1KlTFqTy55EYvKDccjlJx76maceOHYuMjDSJUa9ePZUxllzFJzIi8vjx48LkG1NjNNFJH8/dt29fs2bNZMPAyldpBI3M6/HI/Vq1au3YsUOFwlNY9/JxELfiIZB7ytHOfWPHvncvnyzSI0ZP9JkKVTFg5PamEuOmm26aOXPmxYsX7XCYP3EMC4m98a+IYojKLxR8nDSWr3BNg8zL1zRt1qxZ7JnKf6WKlc6ePSvBZx8O5SSE0E7v2DdWVcZ8ICafye2Ll++ARXqisMjZ5li+vhWPj2P5//53Pa4iiqa88455j6ctW7YYo5GrqKioY8eOSYULb6B169aUQwIaAxAjlJiYaMEVXZLEYtMULJlIrjwghJ1g8vWOfV4YhGNm8jVNa9WqFbutyqG+4zdv3lwVCiuLUoYNM8zYZ3Rs6p4FwkF/9NFHH9WqVYsJqIrJ8TCfaBTyg0uUKLF7926v/LDpe4xy4JtPSFUMjsmnbNnz8mOUrJk0ZmjoNX1EfmSA3BYJyLlRw4bBmhrpFXyvERo1bGgUQ7ItA2b+hSwyHbnBbopH2CEmn3r5Zv7lZ3OvXbt2++23m+ovQmjw4MESt3Jly0o5aYCI6HiTL8pBYX11AB37rHzte/l0+h7loWB5+evXr5dlbN/L//777wXOOu43FCniOgEqLy+P7lvOo7EOVYzQ1KlTpcKFN9C9e3cuC2OOXpSw3INpxYoVLIkuvJxjLXARZ+yEfk5p8iX+qslfsGABaREUYf7efEbuoHDy5MnIKNoNoODz2uuvsVIjn64hh6F8ndOxr6pWTk5ORkZG//79y5cvL0pHng38SyRYoGSpUnu+2aOScg3Tjn2eLngd+wRY17zs31G8fFsz9tUPC0loCBM4Ars5IiRQrvrzdy9rgwYN/vrrL/vchi4mX5cvOuQl2zLgln+KgBpFCdNnDunYr1Onriv/0svXNG3nrp2kJ0+pv3/PsY2IiPj6668Z5nxdvhEfJ5t81VNViykQL5/hY/9LesnJyVIhWqS1CJb2+tCtd+rUKcKB6Jaz2ezKGXYY+fAlvUcffVQ281Lsnj17uhV71KhRikFh0fGtt97qNnL+3xzKjZZo4iiDGCG148vE1Qqy8YibQ8Vf4uMQL18UE8cfIcTG8jVNO3PmDGvrVf5TUpKZ1Onp6QZRMYqJ0b+5N3QYXaSnvzAQGhPtfbjZhGq+Xebl5W3evPmpp55q3LhxdEw0kc7IP61FBqHLli1r/ZlBffc9HIzd92gpsaIKBBbF5Nv7eG5MLHt5Y1kzCCy+BH3y5MkdO3aMGTOmWLFiXOFF+8MubbZCgchoJ60yY59JRn7j4+MniWPy5MksKAPPP/88uzV50qRu3brp2kAJMCoO8fIN6/IF/qYvFw8fPpyLoPBft25dNmNJmbHPJCO/aj+fHZDzM46y4S4VS9Tf1av9nL53111ixr7t3fdSUuj0PZp/eKbvZWZmsuJilc2nPfZJQttf0svJyalQweAnsXwzMjLclvrOnTsZfbVRwAh//dVXbuPn882Jz05k/LNfWbct9tlYsWKF0DHVWghX12gxnGDyyWA8FY8XBOEeS5OvaRqb0CARYIGffvpJ07S72rVjl/Jp+/btZRmxjn3yiD5mAYc09JJJi8CFCxdWrVo1aNCgipUqmfRTNpFM8MnuFjRLyvpYPgrCIj2WI2NAZuFHgM3YZ9T69rM3li8rAH8PsrXH/pEjR8qWKyfZloGyZcs6YVDf8CU9ahQxwva309Z339PBIcpi0UT4UVh+J3Hp2Cd1UfXyNU07e/asm499Y8S+8W34kp7A58D+/X6zFOqEYvc9vcqy9me1BxvklZ82bPc9n76kl0zH8qklcMAiPYR9MvmswbbZsf/xxx/LCaLCupE6HhsbW6hQobi4OPYbF8fDdGK/bAT0SvPwww97LYl8iMDEEWzpfL77rmFSq8rJ4cOHFy1atHDhwrfeemuhciifXuUT3BHCTjD5smNfiEnOcixf07T33ntPfcTKd8KECdnZ2WStNqtPJAbB55133pFoiLF8HTfnrMuXTNoJ5OXlbdmypfGddxpx0K9uueUWCzpiKx6CQzDG8nX9scjU66Pz589LAeyM5bt27GOMhgzx+PFclQFaj2RuOv9Lly5Vo4Ul3NDdd0Dsb8XDTD6VzaDnTvPyJfoIYZPJ1zSNDkca+EcIFS1a9PDhw2XL0Q13lfQFYSyfsCsGK7hcAXXsU3o+juVzyMJm8nXXM5TT9zp17qTohsCcmwPliUvQpG6lS5d2u/tjPjcK2dnZUVFRhFkjf7721Vy8eDGWLms2yu0gk2+UT+/Y1zTt4sWLRYsWU/UHIVS7du23335bT0VDhQsVPnfunCwjYfIN+IV9w93s7OzjynHixIljx46dOXNGsu0pkJeXN3/+fP7ZeCY5BwVjHGGhrqNHj5b645yxfPIlPcF/v34+fFZH1WGvu+8xMC9evBgZYV768XebPOGZZzyhnW/3XTefQAjZ9/L57nt6TeDwOMTk0z32CXNq/ZXT91SQO3TooJYsC999991lypRxaf8KVMc+lQQHsEivTZs2rP6WKml39z3esU9BTwvLWH5mZiYRnHBAiv+5Z59TC9tTWI7l2/ysTmZmJt9sS7ZwrsrCVElwwrgShWKwrO+//74nxvLzfj3z6gPO7HfffWefDT6jREjNSsFhM/ZpoyVaLtXL1zTtvvvuZyXFOGe/tdk3hUUShFC3bt1UTPjuezwCpx/2GfuDBg2S+Ev1Y3sHqcx7Csuv8BF5dNmx67ZlkoLw8kluQTH5kn+ZhR8B1rFPtRn17eu9Y9/g5RMOiPAWY/kmluLj42X7I/nv06ePKVr+X4qteLh+MkD88vJZUvrrmN33RMc+l44hv+kzshWP6Th06FDhwoW5DKJ8ySVXcgM+Tp6+t2nTJqlpKv8Be/k+fFaHT9+jmIXNy+dlSQvQZrPLTD7TEjsd+y+99JJBQbiuCJ3xoD2y/jMOpWa5ruM36Wj+XD733HNCDoNwdoY/JYdKo8+JkRNGjpqxr+LfuxfZikceyndoDPwrSUhwxYoVMolcUTRycgAAIABJREFUl28qX5u6p9IJbvjpp5/mmijKFSMUFxdnc1skuiBFpBQqjRHau3evJz710g/WhrtME7EPE3hdeeMd+1QUOx37dF2+UuA04bBhw1wpu73DPk9lqELYzV4dbtOG9KYw+Uw01ljhJo2b2Mx00aJFujbwEDn98OMPNimENFrd28hndXQOadCtl69p2rRp0ygKNLpIY6q/7JmTTT6fvufCv6f5ZF7x1/fYtz99L1lM3wvXIj1lj31SpjabXb77HsXOjsln3xIwaph+xXRFaTNEUJQNu+a/ZLe+KLaji9ciCWmErKysIkWKCDE4rxiRqek2tw795ptv5LfGhcxcSueO5fcmW/HI49q1a6x/z8Q/veSYFC9e3LRZMvXyTS0GmhDuL+m9+uqrRo3jV1/ZmzHKV66yRJIQRhZDA+qn5ILk5XP9kQXkR0D18m1+SU/aDim3zY793377jXOsagxCffv29YPz4CZp2Mi0Lp+w2LhJY5u5yLF8igkHBiNn7bGv2nyEkCeTn5OTw776KsuXlLhyIQvRySZ/06ZNCss6/35vuMtm7GMyfc9ux35yCp++h5R9SmxqlEU0H97xxR77fHDdpsln3dEMPq8mf/fu3fqECaEaf39EskuXLj169OjevXvPnj17iIOFyS8Nde/ePYKyphQV0bTp06dbyJ9vj9QxaS4ZZTQqKip9wQJrNi5cuJCYkCDxUAV0VMc+Y0yyZ+rYF9+hUSZnUJFkfISQayctw02ljG2/blqjGsjTn376SRSHoTWrV6+e69YRrhmJzQZYWiIcRqhs2bKuMeUd3csPUse+5F9m4UeALtLj/Nvx8k0d+4yHocNsTd978MEHmb6oCvP3nWccMJbPtuJRtdSPj+fKEuEBx3Ts162r7rHP668nk//31ltbtmwR+2dLUUjAhI+TTT7x8hU9k5yHoWOf8tEiLc2P6uk2iR8mn5edTZMvOvZJkS/wZtseGcJ2z1XARighIcEt6643mzRtylSMLwOhb5dJSUmuMfP/ztGjR0uWLKkrPmNU/E6YMMHT1K133323WrVqIiI7G/BxgpfPN90U1pzh72ryP//8cyqAgX+qT/yOa41iY/n8saDvhEV6YoCTCKR7AQjdfffd1lb/gw8+KFqkCE2ipvOyrl03+cHr2GfKFEhdoCafkfHCP8tF6djnqRBCXr383377rW/fvnoCtTFGSO73EoggAaZteMcdhD2hn0z//RzLVyqHQ6bvyXX5oggIixYm/+9vTwwcOFBEpsCwCyM+Tjf5igCy/cnPjn3S4S2UITU1NUAVlcn9MfmMDZuL9DZs2CDYRtZe/uXLl9lYnYzP3guff97WPEFN0/SlYrTOiZYY79y5UwocxgDdRpcLJ2WUi41Kly790EMPzZs3b+XKlSv/b+VLL700ePDgevXqMRCIQCKNOPN3r8xT4f/KiI48r9uEa1eTn5eXd+ONN5r4l01CmbJlcnJyTAU0bNhQJT6vhRMmTjBFy/9LvqWglJeXBmG2dOnSTz755MGDB/Py8iRjOTk5GzZs6N+/P5eXmQUhPEbo888/l5FdA6Rjn9Am/0Hp2KeME2quedm/o3r5/ft7n77HP5TFxGAcYJSclDRgwICBAwfK3/4D+g8YOKB///7//e9/b7/99ogIsg2fW/1PTLTrD9gXyo+YprF8UkoY+WDyFy9WFEEEEXLIunzm5Zvwd12kp+J2+vRptgelbN9oaYsfik+BMPkm/gPq2Kf116dFeiQFrfLh2X1PHcvH2P5YPvskEeHd2uQvV74lI9Xr703cLKYxq0rGPmtmWsZDQcb2pwSbCAb98uHBD3Ot1x08Wqz0rm4FeCTWyMuoSkw96KA99k38q1vxSCSZt6qWr2zLBw0aJKPJwNCh+h77kr4TvPy/t9hr2aIFKSiDMHrJYbqTRI0aNevXr1+9evUbbrhB8i8i6eXbtWtXKbLbgO7lB8Pkqyy7zc7mTTqWz/XTzlh+bBz9NiZtx4QKizNt26SuM4jIM73RVWLSYPFixXxa82JTKD+iyUV6Kv/2F+nJsXypGMxdcYiXLzq0DPhbe/mapi1ZsoSKo6QiRaxfOnz3PcGoOFP9dO2GtKkt/kzfS0kheVP9D9uMfbWl8Kljn6mytclv3769Sp8ladiwoU1MWbTU1Oa0PWHvRrwGlS5d+vLlyz7RCVHka9eu9evbV1F7zqF+ogpGS1q/J0MYowbKB9rZfSd07Otf0lP4d/XyNU2j0zWkQCxA07js58WKgC/SkyloXJu6F6JClGR///33ypUrq6pGjbp6Q/ItAgo+4haqWrWq1911+KsSpf3HkT8kD/4FZNbB8PI5MTtj+bGxsQQAXuAqFyLsDh/xzPByFR0dvX79ev/ED3oq/Ut6Cv/2vfyFCxcyGU364xCTLzv21fbZq8nXNK1ly5ay7HhAwadAePkm/jNWu98B1qtGMZNPp++V9BqZRZAz2RFCYevYV4vcZrMrxvJJUVuY/KNHj0ZGRqn0qW6g2bNn2wSIRXvttddIISmKxS5MS798ohn0yGyJl6pM6suvW/4ZGjNmzFi7di1LyO4g7CAvX5eIMufW5GuadmutWqKIRElhVLlyZbUbXGIuxvK5uCwLJ3j5jMNDhw7V+FcNobcGJnU0iJTGR/SK/GBUpUoVO+4ONfmcSFA69jmtwBbpqR37Nk2+CosMW+DDVIRxK3Amn2x56623pJKEPeCmYx+hJo3tztjnW/GYlMQ5M/Zv49P3JP5ex/JZifzyyy/i4xpc3XiJ0ysnm3zTZ3WkfvrdsU9NPhHbfsd+Ch/LJ6nC5uXLKurjIj3ess+fP99T5Zw2dapKnDaGOCIi4sSJE56SuL2fmZnJt7rTrQppcP/TsaPb+OG6uW7dOvWrCbKyS90iaIhqghGOjYlhSw/EugndijjBy5dj+Sr/bjv2NU2bMGECK1+1xEeMGOG2LIYOpV/SU6Bw2oa7WVlZ458YX7JkSdIgEj5Fwyh4NhWlLjVGPXr0sLmtAtljX9APksnn/LmF3eZNti4fU5Ftm3wf8GFYMfosHBcXN2DAgJ9//tkmh/kTTZp8Vf996NhfvIjrjVF/HDKWf1vd21RdZgVhx8vXNG3iRFLZ1aaMJS8An9VRZRbhQDr2Wf0tVaq0TZ2UBgIjHL4Z+4pG25++J0ocT5s2zZO0tW4lnp9ux6iStG3b1lN8i/ut27TmzS6tP0zDIqMiT548aZEq/x/l5uamp6cnJiVKfHjdoGwL3sk5LS1t3759kkM2gZ88oCkdY/IpR8IsYeMe+5J5TdN+/vlnITJvCzBCnla0Cy9fpKD0J0yYqBJ0QvjcuXPTp0+/sUoVVigCC11APYRRZGRU506dTN8is5aif/8BrMCDtMe+aISD4OVzPezUqbO1CJqmyZ2GrfEx1d+IiIjKlSs3btzkySefdFotZiJTky9kImfSvNvv2Kdj+TQ5K2PezGIHdewz7pT233r6ntSEy5cv16hRQ0BDK4HAx8lePv+sjtLqsPrrt8lv0ICu6fDFy09OTuKNBkKpaeGasc9Li5x86thnDcydd97ptvP2ypUra9asWU0PEshYnZGRsXr1av904tdf9zNSOsHVq9esWePMxkLTtN9++23GjBkdOnSoU6dOhQoVoiKjIiMiKlSo0KBBg6eeemrPHvOX1Hds38HwYQK6znKX9S3fAocPH167di2Fec3atWvX0MNiatX69etlGa1ZQ5J4YnXfvn2MoErfP8XwlEUQ71+9enX58uXPPvvs//r+LzU19eabb46OjkEI3XDDDVWqVKlfv/4jjzyyeNFiP7aHIp8pow1nUGfskyYtEPHlIj2MUJkyXr7/q2napk2bNtJjAz1Y+LPPPtu4ceNnn322YQO5wS7Zo02bNv3666+e1q8Gwnlw0+7cudOV/127dtnM5fjx40xe+cvwOX/+vE0KIY321VdfyUIhgQ0bN2zYYLFtlImZw4cPb6BFu349EWvjRpJ8w4YNTvgEoolVeXn69GnGqlRIVr7WX7iWyU2BzMzMiIgIVn/td+zTDXd5nff1gywmBtRLH5bo8D32ha/ho8mnrGNUqWLFQYMGTabHlClTXn31VZUbCGualpub6wQrDmURFASuXbvma2nm5uZOmTJlsjiefPLJJk2b8GpH3aygdOyLeuxDC+AKCDf5ZOMVchQrVuzee++dPHmy5N96iwJXgnAHECjoCJw4cULq/+TJk8eMGXNr7Vtl/fX5szq0zyisY/ncdqPnnn3WTtns2bOnFTtatuSBVq1bt2rdqjU5PM3wskMZ4gAC/0gErl271qpVq9b8n1Sa1q3JlTxsDv9bgMN9B9oOWUTz+ujy5cucMwODhFPGv31f0GteEAEQKBAI/Prrr1L/WZ1V62+nTp1sSpFCF+mxt+m0Fi1spvIazYd3fDlxjDYU2KaX75UDiAAIAAL5jIAcI0SBjeXnM9uQHSBw/SCgLtILT8e+0eTbHcu/fkoIJAUECgoCvJsxYC+/oMgLfAICBQ4B5uWzqhrWjn3RWoCXX+B0CBgGBBgCohKTmeWACSAACDgQAenlY4TDZ/LJ7CE+DmhzkZ4DoQSWAIHrHAFp8gPcfe86hxHEBwRCh0ByEv14Lq2r4enYF3vsc6PvnB3QQgc6UAYE/pEIgMn/RxYrCPVPQiA5RTf54fPylaYCOvb/SeoFslxXCJB6TFfW4cC+pHddgQbCAgL5iUBSUpK0t+Ex+VlZWXyBHj2Byc/P4oe8AIEgIkCbEj5CF0SyQAoQAASChUAyM/m0mobH5JMZ+7yVIGt8wOQHq2iBDiCQzwjIKTng5ecz8pAdIGATATZ9j5nc8Jh8MZbP9x0Gk2+z5CAaIOA0BGjHPu81dBpvwA8gAAhomiZn7DvjS3oYwYx90EtAoIAioHfXwVh+AS1CYPufjkBycop8NQ/PjH22FQ/d/490NtjccPefXi4gHyBQ8BDgDj61/AWPe+AYELgOEJAfz0WYfEw1WBL7sBGHafc98PKDVQZABxDIZwTA5Ocz4JAdIOArAo7o2Bez98gZxvJ9LUKIDwg4BAE+H4dafoewBGwAAoCAigA1+dTkgpev4gJhQAAQ8BUB4eUT0+9rWogPCAAC+YBAcnKy8LFRi7QwfUmPcID5H+y+lw+lDlkAAqFAgE3fYw1KKOgDTUAAEAgQAX0sH6HwTN/LzMyULx0YwYz9AAsUkgMCYUNAVmTYYz9sZQAZAwKWCKQk0w136Qb3Tpi+h2H6nmV5wUNAwLkIkO12+UI96Nh3bjEBZ9czAg6Zvqe7BzB973pWR5C9QCMAY/kFuviA+esBAd6xz738cIzlZ2ZmkpaCcEAM/3PPPnc94A4yAgL/PAR4PYYZ+/+8ogWJ/ikI8Ol71MsOe8c+4QK8/H+KaoEc1x0CzMsn1Rj7sDPHdQcTCAwIhA+BFLb7Hq2k4TH5yh77pMUAkx8+ZYCcAYGAEKDNCLP7YPIDQhISAwIhQiA5hU/fC/se+3TLXTD5ISpnIAsIhB4Bbu3pKfS5QQ6AACDgMwJiXT7pjGsR7g13oWPf5/KDBICAcxAAk++csgBOAAG3CJAZ+8TSkiM1NdVtHD9u+tCtJ/fYZ2z4t0gvNzd327ZtW7du3WY8tovLa9eu+SEGJAEECi4C586dk/q/bdu27dvJ1fbt21kt2blzZ9BF4w0JbVGCS/yvv/4y8U9q9nZybNu2LRSyBJd/oAYI+IoAUXBhv1zr76VLl3wlyOIbvfxwzNhXx/Ix9nMs/8yZM6K5IWfy9oBxTExMdHQ0+z179qx/AEEqQKCAIrBjxw6p/9HR0bRO6LWkfIUKQZeLD87RTIJLfOvWrSb+EcbR4qhWrVpwswNqgEDYEVDtF6u3av06ePCgfxympKQw+xjOL+mpkvg3fe/06dPC0qPIyMiZM2ceOHDAP0QgFSDwj0QgMzNzxIgR0uaXL18+6GJK4kHffW/Lli2SeMmSJRctWnT8+PFA+D948OCmTZvefffdWbNmTZ48+bXXXlu+fPnevXvz8vICIQtpvSJw8eLF3bt3Z2RkvLFgweTJk2fPnv3+++9/8cUXhw8f9pr2uo1w7ty5hQsXyiqAEPLb5Ktb8YStYz9wk5+dnU3goGMD7du186oZHf/TsWOHDh3JD//tQI/27duTM7ltuH/PPfcMHTp00qRJb7755saNGx07TDBs2DBX/sePH+8VEBZh7dq1FAaCgIrP0aNHbVIIabTBgwdL9qSY/fr1s99Md+vWTSZkpd+hQ4fMzMyQsm1NPD09vUPHDlzxuHhm/OVtT/opZWExFy5c6DbTs2fPRkVFsZpSoXzwvXxRBYO/SG/z5s2svcMIjRo1yq10dm5u37798ccfr1mrJu8KpETV9qd06dL33HPPnj177FALS5wDBw507tKZHOy3c5cuXTp36tRp8+bNYeHHZqZnzpxZuHBhp06dbihcmHXDSm2R+CckJIwfP97hwzRXrlxxi/+yZctsQrFlyxZSel14+YlwF69ualJSEhv+Rth/k0823KVufthn7LMaHYSO/Ycfftgr9PztQFZ43tPBrjkn5MQB5tsE8QcYValS5dlnnz127JjXjPI5Qr169STPkv8023M00tPTxYapOggYo19++SWfBXGbXUJCghSKFg5vK1599VW38V1vFi9e3BWf8LoXqufNhNKhpyEipI/6OXbsWFfZ2Z369esz+iHy8qX+eGLAv/vSy8cIz5o1yw8ie/bsSU1Ndas/KuCCf9y9e3eHqL1J2N27dzOGMdneWD/smxwTwVBfXrlyZfr06SVKlOC8CqZN/EuhEEJt2rTdu3dvqBnzj/6lS5ckq0IUcuPpp5+2SXDZsnddoUAI7dq1y5rC0KFDhX4GYPJTUiT/4ZuxL+Xw97M6ZCxfNIsPP/yQNXCapkVE0NhEdKXUOBv0jusPTUF/eKqoqKjFby/2mld+Rqh3ez0ukcK//c8lpacvoOnMNBzS9tWunaDiL0uvRMkSJ06csINzieLFzbIh/Mcff9hJG6I4I0aMVN8o3eIvGwilVKX04h6Fhv6gcePGeeK2RYsWLGXITD5lNthb8SgmH82dO9eTdG7vX758eeCggRGREfQTAKz8KWiy9ivtD39AT9FRUQMGDMzOznZLNlw3d+3axXXYyL8zTf4XX3xRo0YN0spS1aQ/km8hhzv8o6KiRo4cmZOTEy6cPeV74eIFwbc4U/7tm/x3332XmR2qZeIHo507vZj8cePG09gk3wA69pME3yg1LVwz9qkisHL3byxfnb5nx8vHOEI2marRp82VuTgkQOyp3BsYIRQXF/fll196Uo78v3/77beL+iQ0CaFU24sv58+fz2VUMEDO8/JlE8GFxKhnz5520C5WrJgrPocP/24nbYjiMJOvfJDGrIN+6KeFl5+WlkYzwBVCMH1PKA/BOLhwbd26VRb6nDlz7BM/e/Zs06ZNFcZIbZakpP5Y4N+yZUtHGZ5du3a55X/ZUrsdy/bRCzDmihUr4uLiLNpPr/i3a9fuwoULAbIR3OQXL150i79vJl9tYEUN9+rljx07VmgyPnTokH9y0Rn7FPgwfjxXiEHO/pl8Nn2P0Rk8eLBXLDDrEuOCs1aApqZvo/I27znTr1VOSSuBESpdurTf6Hvl09cIt9e7XW/PSMNLWE9rkWaTzoIFCwwSCsEd4uXzjn3JIi9Ffr127VqvYhYvQTr2hVgcn99/D6/J16fUScl4QDIqebannzZMPgqRly9F8FoWPkWQXj5CyL7JP3nyJPmIiIRRMscCRv0xPSSXIuGAAQN84jakkWXHPmt/JNtO8/Lnz58fERmpwihZ5QF7+Ddq2NBRHS2yY9+E/zPPPGOz3ImXzw6jGfJq8sePHy8x9NvL55/VodYhPBvu8nX5tHZh8lmdZ20Cp0ajXj7FD2MfTL5eqQmSggWJKg+Iis/ps5issFiMl19+WWUmjOF69f5t5h4h++Wanp5uSs5kd4jJT0xIZC8xxPCJUpGFdMstt3hdq1qiREmTgAghR5h8D8qnSukhijRMun5amPwW3MtHFUIwY1/lNri1gJl8Rt+myc/Ly2vdurWo17SFkz9Cf3BERNmyZStVrOip8kuJXnzxxeBK5De13bt3u9V/R5n87du3R0XTiaJ6G6vrJ+M/Li7upvj40qVLkyrpQbkZ/vfee6/fcAU94aVLl9zi76OXr7dDQsewV5M/btw4mSwQky/5T2sRjnX5ciseKgz2z8uXHfsYITsd+xERtGOf48fV7cEH//fTTz/t27fvJ3qwwL59+7Zs2bJ06dJu3bpGx0SL4pHIE23t06dP0BXLP4KsY58xJ1n1aSxfhUQIiR1i8msn1JZCCd5Ea0Gvx49/who3Mn1PHJJUeMfy33nnnV69evXu3fv+Xvf36tW7F7kglyxA++Epp5Jdyn/r1m163X8/S8gjkwT8eO+99zzhwDv2cYi8fMFlsMfy2bp8ZhlsmvzpL74oilo/M/4KFy48cODAbdu2Xb16lQGVnZ39+eef9+jRk3ueQg6aklzgCLx27aeeUM3P+3QsX5dImtSly5bmJxsWeZ09e/bm+JsNEAp+MUIpKSlz585V11hevnz5888/f+DBB2JiYnlEQ2Jy8eabb1rkmJ+PLl68KKRhZ87rU08/ZZMN5uUbRKSUvC5VGDdOePkBjeXTPfZpjvZNg1fR/Nl9j+EXoMlHCPni5TPYucfodfHP2rVrY2OJUsrSYoHExESviORPBDJjXz8odxj5NGNfT01CHB+HmHzZsW/CX/IcExNjPdFXnzYspcMovDP2rRVj9erVwiOlUgrJN23aZJ3Q01Pp5f+zO/b3798fHROjFLLUETISt23bNk/47Nixg0w34wfXf3Zq2rSpp1T5eX83Gcs38Mcu3n333fxkwyKvQYMGUZYom/oPudejRw/5muVKYd26dUWLFOGykRMTlLTPRYoUUd8SXNPm2x06ls95lAXx97XvHfs6NIxOfnr5TAD7HcBe4Q2Lyecv6Pa8fF5YSplhryZf07ShQ4fy0ib6yFNHRkZeuXLFKyj5EIF4+ewFRhHMfrnKjn3+EiTqnFNMfiJdpCcKQOIvbpBz06ZNLZbp00V6FBoFn/B27FtrxRpi8tnBOOYrmz777DPrhJ6eMi8fh8rLF7yGyssn9O14+cLqcH7oibQPVapU+fHHHz2Bw+4fPHiwYsUKLKWiJiTohPX60ss36f/SpY7w8o8fP078IgU4UQZ4yJAhFnWTgf/VV1+VKVPG1P6w4rNYh2JdoMF9Kr18E/6+efnu8LFv8nEwvHyMsH3T4BVDH00+AY9j4N8e+6xjn5LADz/kfV0+6dgnAxpCG+l5tI0tPpYuXWpMRFJGx0Tn5uZ6BSUfIigd+4JN7O9YvoKPQ0x+IlmXL1sDpewU/UEILViwwBPUSse+jo+TTX5GRoYipx7038tni/QQKl+hoO6+59XkZ2ZmFi5cmIMlyhkhVKJ4cZs9Ojt27HBtHxBCTz1lt/PWkwYGfn/Xzl26HrAQ1X+HjOWLWeUCd3G244kxcPbt20fm+SvtD5OyVMmS58+fDxzAAClcuHDBLf72x/Lfe+893fYIfBBCu3fvtuYtKGP5yUnh7tgXe+xzoz9x4kRrsd0+lWP5yN5Yvtu5oqNHj3ZLXL25atUqQ3lTruPj49U4YQwbOvaFMtkfsJFevkFG5LCteFTmuNbQPkAhb+nSpT1tqGfo2BfxwzuWb60ttGNfF1i+7/jt5aemskV6IRrL11m1lsvXp2T6nigvryb/+eefJ3yI+OKMhg8fbj9f5e1ZF6qdjZ097WfhX0zp5TMZhXTYCR37V69eLVlSzJCVnCEUFRV95MgR+/L27t1bB10JzZtnd9Mt+3n5GlN6+Sb8fe7YV/BhItr38gPacDdFN/nh8/KVQg1sLJ+g+NBDNrbiwdTLp/mSNBT9UaO8m/ypU6cqzLIg7t27t696E6L4tJ3ifb/UPBDBfFukR9+GJCYMG4d4+QkJiS7gozJlyhhuUv4f8DChknr5Znyc7OWvXr1aKQuqpqRHDPtt8tPS0pj7FCovX+hPcDVcbriLMPZq8ps1a0b0VgJHAxjjX3/91T5X6enpteRxKwvd2qRJE/sUQhRz586dBoUXrzZOMPl0YYW5fiGM7r23u09ofP3110IsemaKj3CnTp18ohOKyC5ePmfOV5Nv0k+6+54XL58s0hP1y+8Z+0lJSVJ/wmPys7KyKGbcXwvM5BNZHrZh8iluXHCWsZ29u//888+qVasK9ZO4OWKEjyn37fVu5+zp3PnasW8mgJFvbWUoqhmjmVC7tng90324N954I5ZM1JL+PuffrVEsXry4WbxwL9KzhisjI0PqJytSxr9b6axJsadiK56QLNKjHHKA7TBjPw6Zsc8JezH5ly9fjmET95QqgBFygoNuX16LmLuYyVf0mAaxE2bsP/fccwpfegH4sf9/wzvuEApPSDKypUqX8jobwAK6oDziJl+Rkwax/Y79ZcuW6dDQECNmY8b+OIFEALvvMZNPswyPySeL9CR8AX08l3ov2NYiPW7yZb4Ud4vpezk5OR99/HFSkv5BApEU2xkOCIqq2SHCeiMFb0ybcNWqVR/lx6hRo0Y9+uij7FfcfPTRR0eycOs2rVlaTkEQ+uVXh+yxnyjf+QVreMuWLU8++QSvQsLuY4Rq1azpOjeYjeWLtBwfh3v5XDTlhBEK0ORjFBqTr+BvR13tx+Fb8VD61hvubty40VS+DLk333rLfnZOjsk69oWMFBF64YSx/JYtW0rzzBUW40qVKvmB54wZM3S7oCh/2GdQso59V/ztm/z35FY8ojOKymdjXf74cSxfHPCX9Bid8Jh8MZbPVSVAL9/munzFy9fLrkyZMgkJiQkJ/IcEEhKSEhNvuummSLaNlHzFEipof06KH0rvR5Lbb6ef1REymaufC/8GlWM1TEkmlXr3AAAYiUlEQVTLFPHvpTU///yzH8wEPUlCQqKZO4S2bt166dKl6tWrc+GUGK5dbcWLlyBSKnGws718fSyfW1PexAdo8hEK2Vi+wDa4pc97jKlCW3fsz5s3z1S+rLL6PeExuIIETs0wlq9MZ3VCx37VqtVc61ejRo38kPqDDz6Q7Q8JCP232HPCj1z8SGIYy1fwd21tPBF/9z2x+56hKfL+WR0yfU/UL7879tWP54bH5Bu24sHIvxn7/OO5VEfsmGHF5EsMXQICXKZwlDb7IQ9uvvnmtWvWeCrUcN03ePmW/DNp1SguYnKJsYNMPlukR7kWP1u2bNE0bd26da78x8bGmWYhGLx8IbzDvXzBpkE//Tb5/LM6IZqxL3lFPqzZsVNZ+FY8lL61ydf7lhVmEEZev0xqhw0nxOEmn0qniugEL58tlOBcCeb82zuPDOfTQ5Dh+v/KK6+EtxS4yadsSd58+pIenbFvtPaUkI3pe3KP/QA69pPpl/RojvZndnvF3IcKz0y+nMsQwIa73ETZ2YonArOXRlluvOwoG9I3ZjfJL3/McyBXRYoUGTZ8uN+vWl4R9C+CmGasc854d+WfiELuCiBomMvHxJV3yGd1fJj35B/ndlKJrXiENJRDZvI1TevZs6cr/yadFov0GAX+63CTz4qJiSb1MwCTn8YKvlz5cnYw9ymOir9PCb1G1r18b+vyhw8fLuqrXsoRGLuO8njN1JkRlD32DfU37Caf7FHDIOftJcffv6HPEydO8HIkZARdjPxb0hXEolT22Dfg70PHPlmkJ4XSxbNh8tmGuyTJb7/95p9Qyh77Pkzz8pqXzyZfNBZ+evlkkR7XCltj+eqGu7o2ERL0SpCSXOkFZLiFIiMj/euW8IqgfxHox3NlBTHy6lYoYxRxZYiKnbNIr7ZhKx7GrTT5J06cEGvwDPwvXqx/4Jh07Mu6JqR1uMnnwpDWVNfPAEx+C6Yfodx9j7DsnwJ7SsXH8mmRWXv5DzzwgGwKRAmTHfc8US5w900d+1LGsJv8Y8eOuW0/p0+f7gfIeXl5UVFkl36T/o8cOdIPakFMYurYl/jbN/n6Z3VkYiqnvel7HBK/vU1HdOyLFpqc/RzLz86m6BEKPnbskySMAfYrrtTSkGEaRaYQCZywQQfTafIlPVFHJNNKwD3/Qg4pmJKCUvvFGWP5iYl0kZ5kk/ItTb6maa/OmydkkSLgcuXKZ2VlMXzIl/Rc8HG4yXern36PTId6w12JfxAbWU3TaMc+L/jZs2dbEB8yZIgsexmIjIpy1AdwLfj3+oiafAqzwJqdw27yz58/TwEXbAn0/ds1T3wclVBjFNmvfcvqFUn/IlCTT3lhDAn27DPm3uTb24pH5BlIx34yZ9mXXdq8YuXDO75hLB8F4OUL6O2ZfOWzOqI3qlOnTh999NHHH3+8cuVKGlj5MT0++uij1157bcyYMbVq1WJqLHEnedKLDz/80Cso+RBBdOyL2kaZK1asWH3D0aBB/foNGjT497/Jb/0G/FmDBg3i4+NFSlVExyzSI7vvkUNlTjX5eXl5jRo1comC5cdPixUvxiiIX0LJ6SZf6KfgmZw3btzonzqJsXwcyo59UkT+secplX0vf8KECQpQXFOws7+k4Elqt/d3KXvsy/YHIeSE6XsxsfS7BnoBEPzvu+8+t4JY31TGL5TqjpD1C581zaA8VffYV/G3P32Pj+UTlHT9pOvyd1lzqOy+h/3u2E9OTpaAtkgL05f0CAei29K/oRqx+x6hZGcsH6vz95iCYuR1zCk3Nzc9PV0dFBBJ0R133GFdWvnztN7tt+vVjaKKETKNZ1twwnbfYwoh1cJBM/aZl2+QEKkmX9O0PXv2RKv9gTQyRpitDC6hfEmPPKEvbE7efW/NmjVcXFoeslD87thnW/EgskivgoUm+PeItWCMSf8oeErF1+VT0nPnzPEUTdO0uXPn6grCX8hJSX/55ZcWqQrQI90WCjkJKhiF3cvXNK1K5cqCKXqm+Pu3f9FHH31kIkWlRGH/lIA+li/4Y/j74+Ur+klMvr0Nd1n98rtjXx/L98U0eK0gPnj5mZmZTAZWov4NjZNeIPrSgBEe/LD3PfaZxWf5ytwt1uWrAvNXLb20+KuaH9tNqGSDEqYmn3FGxGL/qampNombNtyV+JjmvdukFvRoCQkJOuoi5Ar76NGjWWWU/COEEhMTr169Sk2+GR+b+64HXRw7BDPY7nuicaFnwr//Hfv6HvvBN/kMcMasHensx2Ez9hl967F88pJE4qn/5GLRokX2s9M0LTs7u3+/fn379evfv38/5Qj7zP/du+ge+0L/uajIESa/WdOm/D1awb9y5co+Ic8iz3x5Jitu9itrwFdffeUHtSAmuXz5MmHGBX/7w7tLlixx1U+Eve+xP34cm75H8vff5CfTDXcp/w5YpIewfyZfePkEC3sd+yZ1IpdevXymN0ePHpX6pwZefvnlICqWf6Rkx77oDCZy2S/X9PR0ockGfHzaqdQ/zu2kEjP2VdTNXr6maefPn69WrRqNxKTgreKUKVPEjH35cR4Swekd+0QSKQiXPQCTTzZLQQiHZvoeXwAS9I59seEuoW9t8s+dOxcdHa3qP4OsQ4cOdnRMxvn4448V2HX8T548KeOEJeDY6Xuapj311FMMbRP+W7du9RUrOkInYeeBYsWKXbt2zVdSQY/vur0jQuiRRx6xmdFLL71kwoeB5rWvfty4cbJ99tvkO2T6nixaf6fvnTnDULPdsR+hZylCNr18TdPIzHCOPUnMgsOGDbNZ5KGLJk2+RMNXky8SCp2k4jnFy6cb7nLzJ/A3dewzbFeuXClKVW+3CxUqxOYACxn52ckmn3xJT5dEZ9xvky823MUVQvslvbCN5WuaJuZzcLgYfhhjn2ahDpOfyVbwL1OmTOgqr03KvGNf6L9sf5zQsb9p0yZdR0UII+Tr0vyvvvpKR10PIV/f22xC6mu0SpUqubb/3e7pZpPOyJEjBTbkLOXLzs62pqCO5ftt8nnHPtWftLCM5WdmZjK5mQ4/9+xz1mK7ferrIj0+lC/BpiVg3+STISs9LQ1h1LlzZ7e85edN8iU9gqNgjp7TWtido6F4+RQRQcYhXj6fsc8qieDNtWOfAd65c2cJAxVG/Ljg42STr+++J9hn5ev3WH6LtBaMUmi8fF33gqv2W7duZVrt1cvXNO2ZZ57haHEloSeMhgwZYpOrnJwcsp+j0DGJfZs2bWxSCF00Pn1P541L5wSTf+XKlaLFipraH4RwdFSUT7WM77Ghy8hLIOxz91ixkoZI543jn5ycbLPQu3bt6qqf0THRXpMrXr7/Hft8+h7l2n4HsFfefBjLV2bsEy78W6THVnQw7Ac/PNgrf1g4+TQJxR8jmyaf7hHBk6jvaA888IDXfEMdgXv5QipW91LT0mzmq0/f0ykQSR3i5VOTLzgT0Lv18jVN+/3334sWLarH5iF6EncZPk4ey1+dsdq1dUA4oD32ifQYlSsXqq14GH2bKmczmv2teDRNO3bsWGxsLJVSlDQFsWjRoj/99JOdHKdO4x/M1NPTUHp6up3kIY2jd+xTliSHTjD5fw+rjXp0lDSHuu1HqE+fPja/iLNr167omGim9lI6hFGxYsXOnj0bUmxtEu/Rowdhz4g/Qnjbtm1eKWRnZ5cqVUpIp8tXr149r2mZl0/S4AC24mG771Ei4TH5yh77BAf/TL5hw93Bdqfv8UITZWfT5M+ZO0eWtxoYP3681zILdYR69erpSiQ8LvvlumDBAiW5UGqEHOLl1zZ27LNqYzFMOHPmTBaHCsUlUwTkLZJP/keoS9BEn83Yd+Xfby9fdOyHao99Ca9JkAAv5SI97G33PZZRv379SLWW3DA9QORTyzv+v73zjYnizOP4jKCgaF/2ai4prS81oBXQegnJ0Z5XlYQYTYsnr7yk/kmE7SXFknjai15q1Ia+aHlhNOaMUQMbIUZYLjVaE6N4uJLzH6xGo65EE0MlKAfKAns+f+fZZWFmZ3dnpvrdFzuzszPP8/w+z++Z7zx/p/M/Uyfm7t27M2fOpFfw6xn/nJwc06bXqUNOy79Xu/jwPW6TsNEjkt/b2yu6uuP5V1VVma6OcPbs2XfekTNpY/hv27YtLQBTD+TgwYOGawn+mqZ9/rl52/6uXbuEM8bwsWLd9u3bZWy2G/YLF/Lhe0n1+ZpCs1HL553H9iS/v79fsrA2fE9U8wV+TbNUy29paSGDg8hV5EtGqml6a2urKZdMn0Bq+WqaqHWfJlnLZ0iUYDxVyxfoBf/JavnRaHR0dHTx4sXMHONbMYztelnyEzbsa5r9EfuZlnzJOb2uThv2edhTD99j8d65c2dGTg7LX/Vb07S8vLx/T/52jEAgQHpqY4o2j9cLg3Wi0aiYl0/MYqbR9OkekfzXrSwbN25kyFTybH/lypWDg4OT+Ybf78/JJc0zsaaRn3l5eY8fP57sQoeP37t3b+L9nxn4ReUXUxjY2NioLg2i8jlz5oypFUpffsoN+9R3rEuDadpsSD7PZXuSLxv2dU23KPk0Psacu9jatWsDgUB7e3tAfNra2gKBQFtb2+HDh3fv3k17QfhcQHqN8fXuu78zfYA1pZb6CcVk9T3jw8z79E9J9OUbFxOn5nw80rAvJunJdJHETiH50Wi0s7OTr6OgZLW0kR3z8rx8Q/Jj0+/ZWr5km7ozqyGoDftTz8uXV9XX13NmYiiqKLp69vTsNWvWnDp1qre3d3R0NBKJ3L59u7m5mSzWq3xUPysoKBgeHpaBu7hDGvZjnYEl2TuSPzAwMG/ePEO2Y/nn5+d/+49vr1+/zlrpI5FIOBz2+/3l5eVxS56o/P/lsXcfV1RUKJ7CdnmuLFgw/9ChQ+FwmE0ueP78+bVr11paWlatWhV3ifTPjxZ9ZKXXI12SL/3H+vxtU4e3I/nMfnuT9HjDPi3TViR/GqvksyjJt4Av8kRONhIH6JaGL5SQX8b8+ciRI6ZQHDhBjthX02+9YV/My+c0OBXyWp07DiTeNIr5C+aTJPE7Aec/teRHo1G6AutU+evlWr46y9xwU81+Xz5dfY/QyNDwPVFOkrgDmOZ7NBq9ePGicErtxx+nWopHhjY+Ph5/k01UfrOzs0THvyzrIiq21bXc3Jk3btyQIbu7E1fLF3rqidX3JJnOzs6cGXEr8dG7bGz5zZuVl5XFF0IV0BU3F/ztrd8nE5OJna6uLraem+Q/Mf36tGlz5syhd1H+pzxHvT9rmmaxhVhIPgnGfsM+X32PBOLO6ntqX76u2+zLV+flW1x9T07NlgWd7BgPljJ3FJURp5L/jEzTrS+1mAnnU8MsKi4S6RbbJOflCxOVF0F7ZvienJev8p+iL5+RGRgY+L1cFCxR/npZ8o1aPssYkf5ffjmv5rv1faNh/70MLMVjOF2aJZ8vxUPDt9Kwz4D09fUtWbLEUBnh3Kr/yMd9VqbFKTH+/1ODpYcM67mQyplEbGLvPyzN3qnlM+uOHj06fToZhZci/7KyshcvXqRCLEPX1tXVUfKG00v5J8djfgi3EuVX9boNGzZYTKGQfBKabclfuHCh9B/rtUHTFCZR4Pv6+lQ4KTbsa7r1pXiUrGI5YBwQOSS39C9KSh7iO9YzzJRa6ifIWr6aSuv5Kmr57GoDh0dq+bFzY7iJprX8aDTq9/sT5h0LwsuSH2gnI/ZZ7ZRWF7jVb2XDPre9oaHBekkZHBwsLy9n6CbzAfX+w+MgG+7/yc4pt542e2caI/ZFWln6vSb5rxdI+Pnnn2fPni1Z2uBfWVn56tUre6AyfdX4+HhlZeVk4i79J2H5FVmnrVixwnqPcFokX12Kx7WGfbXI2ZN8o2Hf4up7tGFfxMvLtswGuWM8k7FD9EThuPr7+e/X19dbz7BMu2A0Go0brcbSn5TkcxbMUvHDI5LPavmSPytLViT/dad+fBsvzVDGx8uST2v5PBukW2opNOzzWr6emTX25X1OT+Kh30q5EKvvER22XstnIUcikR07duTmzowVfuFHsfUx4fIE9owZ0/ft22elk9WKCek6R/Tlx6ffg5LP3nmxdOlS7roUrki32E7Cf87sOXv27PEa/LhMjEQiO3fuzM7OkmWTmsiLwdT6kpWVVVtbm9QDDZ2XT6PSU6jlFxbSgkBSal0a4gyf+DOJAq/MyyfG2JN8tWHfSrVb3pr4Mxp1PzW3VB+l0sL/JMd1bdGiRceOHfOU2LM8YEvx8MQzSdS0T5JZYz/+KYcWSE9Jvqh9kU4Y3Wz4nnTN+/fvz5o1i2VfHB9Pz8tvbydGTvBP27X80tJSZn6G+vKl/0jyadlRJunpe/futRHmw4cPq6qqyAAxUZSZ/xjOQPdE+vWKioqrV03ebGYjGalfIl+rE5d+b0r+61V4x8fHjx8/LtbANm69celnGUEO6vqGDX/1zvh80yy7fPny8uXL2Vovwn8Mt0pYfsvK/mjjPU+1tbUy/FQa9iVq90bsSztSeXmuuC0WFhaYPhv6fL4a/pE7NT5+lB+prq5mp/h8vq/+9tX+7/c3NfmDweCvv/aZOoFbJ3y/f39NTXz6rTeEdnR0EAgGnBoW2tOnT92ySI33u+/20Byp9kkba6pNF6aWITQ2NtZUk1wlX9XVW7duZTtemGwtExm3093dLRw1xj/trZQwNDQkn3syJvlcOeMMSfGnIvnaunXrbIf26NGjhoafPvvzZ3zuOJN/cf+ZNi2rpKSkrq7OO4P1JloaDoe3bN6ymX42bd60WewHg8GJJ3vnSCQSOXv2nM/n+/DDD1TZJ+5C+efk5KxaVX7gwIEnT554J9nWUxIKhb75pq60tJQUMepXxhctE7m5uX9Ytuzrr2tv3rxpPVj1zI8/XsYcVkuhll9YWCD5l31i9Y1rajIS7idZyyd28OFwqdfyNV1bvXp1U1NTT09PKBTqoR/Th4CEZuAgCPx2CQwPD0v/D4VCHZc6Nm3axB7wNU1/LwPD90TgpDinl5tccJfeKfQvv9zY3t7OinZPT4+NB6CRkZFwOBwMBltbW5uams6dO3ftv9f6+/vTm2yElpDAs2fPQqHQ+fPn/X5/W1tbMBjs7e1Nqok7YbAeOTgyMtLd3X3p0qXW1tYTJ06cPn36woULt27dStZAVb+6urp+qP9BLhqrafqDBw/s2SummpPCav296qZxJSH5fI19cbewJ/lsXr4IQ2z5SvrkJwqzaZ7hhDeMQEdHB68TiAKhbjNUy5dRpBemrOXL8MmOMG/u3LnpjQ6hgYDrBEgXR4y7x/xIvWFf03VX+/Kpcbqm/XP3bnus/yc+Q0NDYtfY2gsTV4HAb5fA2NiYUQAm7A0NDaXdNPUOld7AE9oiS3ombElv+hEaCCRLYEKRjTlgu92aTdJjTxPW37hmmvgkavmxw/d0e7V80wThBBAAgUwTMOrd6R6xn+mUI3wQeEsIqJP03GnYj5V8myP235Lcgpkg4GUCasujl9OJtIHAW0uAL8VDy6qrDfviboFa/lvrizAcBEAABEAgowRkLV/XXOzLJ5M0eD+gvTX2M8oIgYMACIAACIDAG0CgsIC+PJfWsd1p2Bdr7HPRX7fuL83i09LS0tzczL6vXLnyBuCGCSAAAiAAAiCQUQJjY2NCRbmAnjx5kh3J/yBfNKl7Y/U9NjOBVPnF8F+2v379+owyQuAgAAIgAAIg8AYQePnyJR2TT0XUUFOhqULz3enLHxgYKCkuLikpKeafkmK6y34XFRWVkD9L/r59+xuQEzABBEAABEAABDJKYGRkhMlpUVFRcTFVVKaqXGe52m7ZsiVdyUhikl66okQ4IAACIAACIAACzhOA5DvPHDGCAAiAAAiAgAsEIPkuQEeUIAACIAACIOA8AUi+88wRIwiAAAiAAAi4QACS7wJ0RAkCIAACIAACzhOA5DvPHDGCAAiAAAiAgAsEIPkuQEeUIAACIAACIOA8AUi+88wRIwiAAAiAAAi4QACS7wJ0RAkCIAACIAACzhOA5DvPHDGCAAiAAAiAgAsEIPkuQEeUIAACIAACIOA8AUi+88wRIwiAAAiAAAi4QACS7wJ0RAkCIAACIAACzhOA5DvPHDGCAAiAAAiAgAsEIPkuQEeUIAACIAACIOA8AUi+88wRIwiAAAiAAAi4QACS7wJ0RAkCIAACIAACzhOA5DvPHDGCAAiAAAiAgAsEIPkuQEeUIAACIAACIOA8AUi+88wRIwiAAAiAAAi4QACS7wJ0RAkCIAACIAACzhOA5DvPHDGCAAiAAAiAgAsEIPkuQEeUIAACIAACIOA8AUi+88wRIwiAAAiAAAi4QACS7wJ0RAkCIAACIAACzhOA5DvPHDGCAAiAAAiAgAsEIPkuQEeUIAACIAACIOA8gf8DRloQtaaenh8AAAAASUVORK5CYII=)"
      ],
      "metadata": {
        "id": "a4143aQTabgL"
      }
    },
    {
      "cell_type": "code",
      "execution_count": 7,
      "metadata": {
        "id": "k934NNWmrWOU"
      },
      "outputs": [],
      "source": [
        "bptt = 35\n",
        "def get_batch(source: Tensor, i: int) -> Tuple[Tensor, Tensor]:\n",
        "    \"\"\"\n",
        "    Args:\n",
        "        source: Tensor, shape ``[full_seq_len, batch_size]``\n",
        "        i: int\n",
        "\n",
        "    Returns:\n",
        "        tuple (data, target), where data has shape ``[seq_len, batch_size]`` and\n",
        "        target has shape ``[seq_len * batch_size]``\n",
        "    \"\"\"\n",
        "    seq_len = min(bptt, len(source) - 1 - i)\n",
        "    data = source[i:i+seq_len]\n",
        "    target = source[i+1:i+1+seq_len].reshape(-1)\n",
        "    return data, target"
      ]
    },
    {
      "cell_type": "markdown",
      "metadata": {
        "id": "DH-GNFAvrWOV"
      },
      "source": [
        "## Initiate an instance\n",
        "\n",
        "\n"
      ]
    },
    {
      "cell_type": "markdown",
      "metadata": {
        "id": "kaF48G8NrWOV"
      },
      "source": [
        "The model hyperparameters are defined below. The ``vocab`` size is\n",
        "equal to the length of the vocab object.\n",
        "\n",
        "\n"
      ]
    },
    {
      "cell_type": "code",
      "execution_count": 8,
      "metadata": {
        "id": "l52vu6bgrWOV",
        "colab": {
          "base_uri": "https://localhost:8080/"
        },
        "outputId": "5d2a1ef0-8089-4b20-beb8-a285c907326f"
      },
      "outputs": [
        {
          "output_type": "stream",
          "name": "stderr",
          "text": [
            "/usr/local/lib/python3.10/dist-packages/torch/nn/modules/transformer.py:282: UserWarning: enable_nested_tensor is True, but self.use_nested_tensor is False because encoder_layer.self_attn.batch_first was not True(use batch_first for better inference performance)\n",
            "  warnings.warn(f\"enable_nested_tensor is True, but self.use_nested_tensor is False because {why_not_sparsity_fast_path}\")\n"
          ]
        }
      ],
      "source": [
        "ntokens = len(vocab)  # size of vocabulary\n",
        "emsize = 200  # embedding dimension\n",
        "d_hid = 200  # dimension of the feedforward network model in ``nn.TransformerEncoder``\n",
        "nlayers = 2  # number of ``nn.TransformerEncoderLayer`` in ``nn.TransformerEncoder``\n",
        "nhead = 2  # number of heads in ``nn.MultiheadAttention``\n",
        "dropout = 0.2  # dropout probability\n",
        "model = TransformerModel(ntokens, emsize, nhead, d_hid, nlayers, dropout).to(device)"
      ]
    },
    {
      "cell_type": "markdown",
      "metadata": {
        "id": "cikpe1AarWOV"
      },
      "source": [
        "## Run the model\n",
        "\n",
        "\n"
      ]
    },
    {
      "cell_type": "markdown",
      "metadata": {
        "id": "aOnONzFerWOV"
      },
      "source": [
        "We use [CrossEntropyLoss](https://pytorch.org/docs/stable/generated/torch.nn.CrossEntropyLoss.html)_\n",
        "with the [SGD](https://pytorch.org/docs/stable/generated/torch.optim.SGD.html)_\n",
        "(stochastic gradient descent) optimizer. The learning rate is initially set to\n",
        "5.0 and follows a [StepLR](https://pytorch.org/docs/stable/generated/torch.optim.lr_scheduler.StepLR.html)_\n",
        "schedule. During training, we use [nn.utils.clip_grad_norm\\_](https://pytorch.org/docs/stable/generated/torch.nn.utils.clip_grad_norm_.html)_\n",
        "to prevent gradients from exploding.\n",
        "\n",
        "\n"
      ]
    },
    {
      "cell_type": "code",
      "execution_count": 9,
      "metadata": {
        "id": "uaWiHKGRrWOV"
      },
      "outputs": [],
      "source": [
        "import time\n",
        "\n",
        "criterion = nn.CrossEntropyLoss()\n",
        "lr = 5.0  # learning rate\n",
        "optimizer = torch.optim.SGD(model.parameters(), lr=lr)\n",
        "scheduler = torch.optim.lr_scheduler.StepLR(optimizer, 1.0, gamma=0.95)\n",
        "\n",
        "def train(model: nn.Module) -> None:\n",
        "    model.train()  # turn on train mode\n",
        "    total_loss = 0.\n",
        "    log_interval = 200\n",
        "    start_time = time.time()\n",
        "\n",
        "    num_batches = len(train_data) // bptt\n",
        "    for batch, i in enumerate(range(0, train_data.size(0) - 1, bptt)):\n",
        "        data, targets = get_batch(train_data, i)\n",
        "        output = model(data)\n",
        "        output_flat = output.view(-1, ntokens)\n",
        "        loss = criterion(output_flat, targets)\n",
        "\n",
        "        optimizer.zero_grad()\n",
        "        loss.backward()\n",
        "        torch.nn.utils.clip_grad_norm_(model.parameters(), 0.5)\n",
        "        optimizer.step()\n",
        "\n",
        "        total_loss += loss.item()\n",
        "        if batch % log_interval == 0 and batch > 0:\n",
        "            lr = scheduler.get_last_lr()[0]\n",
        "            ms_per_batch = (time.time() - start_time) * 1000 / log_interval\n",
        "            cur_loss = total_loss / log_interval\n",
        "            ppl = math.exp(cur_loss)\n",
        "            print(f'| epoch {epoch:3d} | {batch:5d}/{num_batches:5d} batches | '\n",
        "                  f'lr {lr:02.2f} | ms/batch {ms_per_batch:5.2f} | '\n",
        "                  f'loss {cur_loss:5.2f} | ppl {ppl:8.2f}')\n",
        "            total_loss = 0\n",
        "            start_time = time.time()\n",
        "\n",
        "def evaluate(model: nn.Module, eval_data: Tensor) -> float:\n",
        "    model.eval()  # turn on evaluation mode\n",
        "    total_loss = 0.\n",
        "    with torch.no_grad():\n",
        "        for i in range(0, eval_data.size(0) - 1, bptt):\n",
        "            data, targets = get_batch(eval_data, i)\n",
        "            seq_len = data.size(0)\n",
        "            output = model(data)\n",
        "            output_flat = output.view(-1, ntokens)\n",
        "            total_loss += seq_len * criterion(output_flat, targets).item()\n",
        "    return total_loss / (len(eval_data) - 1)"
      ]
    },
    {
      "cell_type": "markdown",
      "metadata": {
        "id": "3Qvu-NQZrWOV"
      },
      "source": [
        "Loop over epochs. Save the model if the validation loss is the best\n",
        "we've seen so far. Adjust the learning rate after each epoch.\n",
        "\n"
      ]
    },
    {
      "cell_type": "code",
      "execution_count": 10,
      "metadata": {
        "id": "cghjMQlvrWOV",
        "colab": {
          "base_uri": "https://localhost:8080/"
        },
        "outputId": "1a0a947e-124a-4047-a169-4b83f372d45a"
      },
      "outputs": [
        {
          "output_type": "stream",
          "name": "stdout",
          "text": [
            "| epoch   1 |   200/ 1320 batches | lr 5.00 | ms/batch 309.73 | loss  7.19 | ppl  1322.06\n",
            "| epoch   1 |   400/ 1320 batches | lr 5.00 | ms/batch 287.49 | loss  6.08 | ppl   437.27\n",
            "| epoch   1 |   600/ 1320 batches | lr 5.00 | ms/batch 278.14 | loss  5.84 | ppl   343.95\n",
            "| epoch   1 |   800/ 1320 batches | lr 5.00 | ms/batch 283.09 | loss  5.67 | ppl   289.49\n",
            "| epoch   1 |  1000/ 1320 batches | lr 5.00 | ms/batch 272.91 | loss  5.59 | ppl   268.56\n",
            "| epoch   1 |  1200/ 1320 batches | lr 5.00 | ms/batch 281.56 | loss  5.48 | ppl   240.46\n",
            "-----------------------------------------------------------------------------------------\n",
            "| end of epoch   1 | time: 386.25s | valid loss  5.46 | valid ppl   235.60\n",
            "-----------------------------------------------------------------------------------------\n"
          ]
        }
      ],
      "source": [
        "best_val_loss = float('inf')\n",
        "epochs = 1\n",
        "\n",
        "with TemporaryDirectory() as tempdir:\n",
        "    best_model_params_path = os.path.join(tempdir, \"best_model_params.pt\")\n",
        "\n",
        "    for epoch in range(1, epochs + 1):\n",
        "        epoch_start_time = time.time()\n",
        "        train(model)\n",
        "        val_loss = evaluate(model, val_data)\n",
        "        val_ppl = math.exp(val_loss)\n",
        "        elapsed = time.time() - epoch_start_time\n",
        "        print('-' * 89)\n",
        "        print(f'| end of epoch {epoch:3d} | time: {elapsed:5.2f}s | '\n",
        "            f'valid loss {val_loss:5.2f} | valid ppl {val_ppl:8.2f}')\n",
        "        print('-' * 89)\n",
        "\n",
        "        if val_loss < best_val_loss:\n",
        "            best_val_loss = val_loss\n",
        "            torch.save(model.state_dict(), best_model_params_path)\n",
        "\n",
        "        scheduler.step()\n",
        "    model.load_state_dict(torch.load(best_model_params_path)) # load best model states"
      ]
    },
    {
      "cell_type": "markdown",
      "metadata": {
        "id": "ZpnZXNHfrWOV"
      },
      "source": [
        "## Evaluate the best model on the test dataset\n",
        "\n",
        "\n"
      ]
    },
    {
      "cell_type": "code",
      "execution_count": 11,
      "metadata": {
        "id": "BmgLCqB4rWOV",
        "colab": {
          "base_uri": "https://localhost:8080/"
        },
        "outputId": "2794e0e1-7914-4c04-93a2-49a2855ae575"
      },
      "outputs": [
        {
          "output_type": "stream",
          "name": "stdout",
          "text": [
            "=========================================================================================\n",
            "| End of training | test loss  5.43 | test ppl   227.19\n",
            "=========================================================================================\n"
          ]
        }
      ],
      "source": [
        "test_loss = evaluate(model, test_data)\n",
        "test_ppl = math.exp(test_loss)\n",
        "print('=' * 89)\n",
        "print(f'| End of training | test loss {test_loss:5.2f} | '\n",
        "      f'test ppl {test_ppl:8.2f}')\n",
        "print('=' * 89)"
      ]
    }
  ],
  "metadata": {
    "kernelspec": {
      "display_name": "Python 3",
      "language": "python",
      "name": "python3"
    },
    "language_info": {
      "codemirror_mode": {
        "name": "ipython",
        "version": 3
      },
      "file_extension": ".py",
      "mimetype": "text/x-python",
      "name": "python",
      "nbconvert_exporter": "python",
      "pygments_lexer": "ipython3",
      "version": "3.10.13"
    },
    "colab": {
      "provenance": [],
      "include_colab_link": true
    }
  },
  "nbformat": 4,
  "nbformat_minor": 0
}