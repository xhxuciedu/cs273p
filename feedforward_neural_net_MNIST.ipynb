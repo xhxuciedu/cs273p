{
  "nbformat": 4,
  "nbformat_minor": 0,
  "metadata": {
    "colab": {
      "name": "feedforward_neural_net.ipynb",
      "provenance": [],
      "include_colab_link": true
    },
    "kernelspec": {
      "name": "python3",
      "display_name": "Python 3"
    },
    "accelerator": "GPU"
  },
  "cells": [
    {
      "cell_type": "markdown",
      "metadata": {
        "id": "view-in-github",
        "colab_type": "text"
      },
      "source": [
        "<a href=\"https://colab.research.google.com/github/xhxuciedu/cs273p/blob/main/feedforward_neural_net_MNIST.ipynb\" target=\"_parent\"><img src=\"https://colab.research.google.com/assets/colab-badge.svg\" alt=\"Open In Colab\"/></a>"
      ]
    },
    {
      "cell_type": "markdown",
      "source": [
        "Below is a simple example of a feedforward neural network implemented using PyTorch. This network is designed for a generic classification task, where the goal is to predict the class of an input vector. The network consists of an input layer, a few hidden layers, and an output layer. The exact number of layers and their sizes can be adjusted based on the specific requirements of your task."
      ],
      "metadata": {
        "id": "sFcNGlLobLZN"
      }
    },
    {
      "metadata": {
        "id": "JWSDGcM8fPzE"
      },
      "cell_type": "code",
      "source": [
        "import torch\n",
        "import torch.nn as nn\n",
        "import torchvision\n",
        "import torchvision.transforms as transforms\n",
        "import matplotlib.pyplot as plt\n",
        "import torch.nn.functional as F"
      ],
      "execution_count": 32,
      "outputs": []
    },
    {
      "metadata": {
        "id": "GE--hQPqs_2_"
      },
      "cell_type": "markdown",
      "source": [
        "### Check GPU availability"
      ]
    },
    {
      "metadata": {
        "id": "Zt89xrC4sHt0"
      },
      "cell_type": "code",
      "source": [
        "# Device configuration\n",
        "device = torch.device('cuda' if torch.cuda.is_available() else 'cpu')"
      ],
      "execution_count": 33,
      "outputs": []
    },
    {
      "metadata": {
        "id": "nY6V-tL7fWTr",
        "colab": {
          "base_uri": "https://localhost:8080/"
        },
        "outputId": "324a1484-cb07-4bf3-fa66-8297eeb14ada"
      },
      "cell_type": "code",
      "source": [
        "device"
      ],
      "execution_count": 34,
      "outputs": [
        {
          "output_type": "execute_result",
          "data": {
            "text/plain": [
              "device(type='cuda')"
            ]
          },
          "metadata": {},
          "execution_count": 34
        }
      ]
    },
    {
      "cell_type": "markdown",
      "source": [
        "## Define a feedforward neural net model"
      ],
      "metadata": {
        "id": "iFCHe-BPa5Hm"
      }
    },
    {
      "cell_type": "code",
      "source": [
        "class FeedforwardNeuralNet(nn.Module):\n",
        "    def __init__(self, input_size, hidden_size, num_classes):\n",
        "        super(FeedforwardNeuralNet, self).__init__()\n",
        "        # First hidden layer\n",
        "        self.hidden1 = nn.Linear(input_size, hidden_size)\n",
        "        # Second hidden layer\n",
        "        self.hidden2 = nn.Linear(hidden_size, hidden_size)\n",
        "        # Output layer\n",
        "        self.output = nn.Linear(hidden_size, num_classes)\n",
        "\n",
        "    def forward(self, x):\n",
        "        # Forward pass through the first hidden layer with ReLU activation\n",
        "        x = F.relu(self.hidden1(x))\n",
        "        # Forward pass through the second hidden layer with ReLU activation\n",
        "        x = F.relu(self.hidden2(x))\n",
        "        # Forward pass through the output layer\n",
        "        x = self.output(x)\n",
        "        return x"
      ],
      "metadata": {
        "id": "POtVCrhoajYo"
      },
      "execution_count": 35,
      "outputs": []
    },
    {
      "metadata": {
        "id": "xmGhHF2ws7W5"
      },
      "cell_type": "markdown",
      "source": [
        "### Hypter-parameters"
      ]
    },
    {
      "metadata": {
        "id": "ljCaUcrMs0G-"
      },
      "cell_type": "code",
      "source": [
        "# model hyper-parameters\n",
        "input_size = 784  # For MNIST dataset, for example\n",
        "hidden_size = 500 # Number of hidden neurons\n",
        "num_classes = 10  # Number of output classes (e.g., MNIST has 10 digits)\n",
        "\n",
        "# training hyper-parameters\n",
        "num_epochs = 5\n",
        "batch_size = 100\n",
        "learning_rate = 0.001"
      ],
      "execution_count": 36,
      "outputs": []
    },
    {
      "cell_type": "code",
      "source": [
        "# Create the neural network\n",
        "model = FeedforwardNeuralNet(input_size, hidden_size, num_classes).to(device)\n",
        "\n",
        "print(model)"
      ],
      "metadata": {
        "colab": {
          "base_uri": "https://localhost:8080/"
        },
        "id": "Uz_DIU_5bDkN",
        "outputId": "b1aa47a9-a583-4322-de90-aadedf692ecf"
      },
      "execution_count": 37,
      "outputs": [
        {
          "output_type": "stream",
          "name": "stdout",
          "text": [
            "FeedforwardNeuralNet(\n",
            "  (hidden1): Linear(in_features=784, out_features=500, bias=True)\n",
            "  (hidden2): Linear(in_features=500, out_features=500, bias=True)\n",
            "  (output): Linear(in_features=500, out_features=10, bias=True)\n",
            ")\n"
          ]
        }
      ]
    },
    {
      "cell_type": "markdown",
      "source": [
        "**Explanation of the code**\n",
        "\n",
        "This code defines a neural network (`FeedforwardNeuralNet`) with two hidden layers, each followed by a ReLU activation function.\n",
        "\n",
        "The `__init__` method initializes the layers of the network, and the `forward` method defines how the data flows through the network, i.e., it specifies the forward pass.\n",
        "\n",
        "- `input_size`: The size of the input features (e.g., for the MNIST dataset, this would be 28x28=784, assuming you flatten the images into a 784-dimensional vector).\n",
        "- `hidden_size`: The number of neurons in each hidden layer. You can adjust this based on the complexity of your task.\n",
        "- `num_classes`: The number of output classes for your classification task."
      ],
      "metadata": {
        "id": "dm9spj5Fb5hM"
      }
    },
    {
      "metadata": {
        "id": "3-NnJw6Cs2B7"
      },
      "cell_type": "markdown",
      "source": [
        "### Dataset"
      ]
    },
    {
      "metadata": {
        "id": "vnrhtrekfNHn"
      },
      "cell_type": "code",
      "source": [
        "# MNIST dataset\n",
        "train_dataset = torchvision.datasets.MNIST(root='../../data',\n",
        "                                           train=True,\n",
        "                                           transform=transforms.ToTensor(),\n",
        "                                           download=True)\n",
        "\n",
        "test_dataset = torchvision.datasets.MNIST(root='../../data',\n",
        "                                          train=False,\n",
        "                                          transform=transforms.ToTensor())\n",
        "\n",
        "# Data loader\n",
        "train_loader = torch.utils.data.DataLoader(dataset=train_dataset,\n",
        "                                           batch_size=batch_size,\n",
        "                                           shuffle=True)\n",
        "\n",
        "test_loader = torch.utils.data.DataLoader(dataset=test_dataset,\n",
        "                                          batch_size=batch_size,\n",
        "                                          shuffle=False)"
      ],
      "execution_count": 38,
      "outputs": []
    },
    {
      "metadata": {
        "id": "cnYLrSQ0sdo7"
      },
      "cell_type": "markdown",
      "source": [
        "### Check the data and labels"
      ]
    },
    {
      "metadata": {
        "id": "AnMfEressM9p",
        "colab": {
          "base_uri": "https://localhost:8080/"
        },
        "outputId": "2f08a80f-da4a-4d2c-ee4f-aa266f74608a"
      },
      "cell_type": "code",
      "source": [
        "images, labels = next(iter(train_loader))\n",
        "print(images.shape, labels.shape)"
      ],
      "execution_count": 42,
      "outputs": [
        {
          "output_type": "stream",
          "name": "stdout",
          "text": [
            "torch.Size([100, 1, 28, 28]) torch.Size([100])\n"
          ]
        }
      ]
    },
    {
      "metadata": {
        "id": "b-S6w8tysho6",
        "colab": {
          "base_uri": "https://localhost:8080/",
          "height": 447
        },
        "outputId": "edd4005a-6499-436f-d936-45a04ce1e026"
      },
      "cell_type": "code",
      "source": [
        "plt.imshow(images[1,0,:,:], cmap='gray')"
      ],
      "execution_count": 43,
      "outputs": [
        {
          "output_type": "execute_result",
          "data": {
            "text/plain": [
              "<matplotlib.image.AxesImage at 0x7e7f7a04b390>"
            ]
          },
          "metadata": {},
          "execution_count": 43
        },
        {
          "output_type": "display_data",
          "data": {
            "text/plain": [
              "<Figure size 640x480 with 1 Axes>"
            ],
            "image/png": "[encoded data removed]"
          },
          "metadata": {}
        }
      ]
    },
    {
      "metadata": {
        "id": "58yoIgrvssPs"
      },
      "cell_type": "markdown",
      "source": [
        "### Training"
      ]
    },
    {
      "cell_type": "code",
      "source": [
        "# Loss and optimizer\n",
        "criterion = nn.CrossEntropyLoss()\n",
        "optimizer = torch.optim.Adam(model.parameters(), lr=learning_rate)"
      ],
      "metadata": {
        "id": "qQgNgTnwdUH0"
      },
      "execution_count": 44,
      "outputs": []
    },
    {
      "metadata": {
        "id": "sR0rH5GFfJbY",
        "colab": {
          "base_uri": "https://localhost:8080/"
        },
        "outputId": "be5ac419-71ee-4149-a537-8783f6acb5e2"
      },
      "cell_type": "code",
      "source": [
        "# Train the model\n",
        "model.train\n",
        "total_step = len(train_loader)\n",
        "for epoch in range(num_epochs):\n",
        "    for i, (images, labels) in enumerate(train_loader):\n",
        "        # Move tensors to the configured device\n",
        "        images = images.reshape(-1, 28*28).to(device)\n",
        "        labels = labels.to(device)\n",
        "\n",
        "        # Forward pass\n",
        "        outputs = model(images)\n",
        "        loss = criterion(outputs, labels)\n",
        "\n",
        "        # Backward and optimize\n",
        "        optimizer.zero_grad()\n",
        "        loss.backward()\n",
        "        optimizer.step()\n",
        "\n",
        "        if (i+1) % 100 == 0:\n",
        "            print ('Epoch [{}/{}], Step [{}/{}], Loss: {:.4f}'\n",
        "                   .format(epoch+1, num_epochs, i+1, total_step, loss.item()))"
      ],
      "execution_count": 45,
      "outputs": [
        {
          "output_type": "stream",
          "name": "stdout",
          "text": [
            "Epoch [1/5], Step [100/600], Loss: 0.4213\n",
            "Epoch [1/5], Step [200/600], Loss: 0.4120\n",
            "Epoch [1/5], Step [300/600], Loss: 0.1016\n",
            "Epoch [1/5], Step [400/600], Loss: 0.0792\n",
            "Epoch [1/5], Step [500/600], Loss: 0.0609\n",
            "Epoch [1/5], Step [600/600], Loss: 0.0458\n",
            "Epoch [2/5], Step [100/600], Loss: 0.1164\n",
            "Epoch [2/5], Step [200/600], Loss: 0.0319\n",
            "Epoch [2/5], Step [300/600], Loss: 0.0969\n",
            "Epoch [2/5], Step [400/600], Loss: 0.0721\n",
            "Epoch [2/5], Step [500/600], Loss: 0.0474\n",
            "Epoch [2/5], Step [600/600], Loss: 0.0493\n",
            "Epoch [3/5], Step [100/600], Loss: 0.0236\n",
            "Epoch [3/5], Step [200/600], Loss: 0.0505\n",
            "Epoch [3/5], Step [300/600], Loss: 0.0589\n",
            "Epoch [3/5], Step [400/600], Loss: 0.0405\n",
            "Epoch [3/5], Step [500/600], Loss: 0.0333\n",
            "Epoch [3/5], Step [600/600], Loss: 0.0452\n",
            "Epoch [4/5], Step [100/600], Loss: 0.0119\n",
            "Epoch [4/5], Step [200/600], Loss: 0.0247\n",
            "Epoch [4/5], Step [300/600], Loss: 0.0093\n",
            "Epoch [4/5], Step [400/600], Loss: 0.0842\n",
            "Epoch [4/5], Step [500/600], Loss: 0.0337\n",
            "Epoch [4/5], Step [600/600], Loss: 0.1010\n",
            "Epoch [5/5], Step [100/600], Loss: 0.0103\n",
            "Epoch [5/5], Step [200/600], Loss: 0.0021\n",
            "Epoch [5/5], Step [300/600], Loss: 0.0098\n",
            "Epoch [5/5], Step [400/600], Loss: 0.0487\n",
            "Epoch [5/5], Step [500/600], Loss: 0.0843\n",
            "Epoch [5/5], Step [600/600], Loss: 0.0367\n"
          ]
        }
      ]
    },
    {
      "metadata": {
        "id": "ufEUHOYAsvKw"
      },
      "cell_type": "markdown",
      "source": [
        "### Testing"
      ]
    },
    {
      "cell_type": "code",
      "source": [
        "def test_model(model, test_loader, device):\n",
        "    \"\"\"Evaluates the performance of a trained model on the test dataset.\"\"\"\n",
        "    model.eval()  # Set model to evaluation mode\n",
        "    correct = 0\n",
        "    total = 0\n",
        "\n",
        "    with torch.no_grad():  # Disable gradient computation for efficiency\n",
        "        for images, labels in test_loader:\n",
        "            images, labels = images.to(device), labels.to(device)\n",
        "            images = images.view(images.size(0), -1)  # Flatten images if needed\n",
        "\n",
        "            outputs = model(images)\n",
        "            _, predicted = torch.max(outputs, 1)  # Get the class with highest probability\n",
        "\n",
        "            total += labels.size(0)\n",
        "            correct += (predicted == labels).sum().item()\n",
        "\n",
        "    accuracy = 100 * correct / total\n",
        "    print(f'Accuracy of the network on the {total} test images: {accuracy:.2f} %')\n",
        "    return accuracy"
      ],
      "metadata": {
        "id": "0zUBEh-YeDjT"
      },
      "execution_count": 46,
      "outputs": []
    },
    {
      "cell_type": "code",
      "source": [
        "test_model(model, test_loader, device)"
      ],
      "metadata": {
        "colab": {
          "base_uri": "https://localhost:8080/"
        },
        "id": "lLvHHB1qerkq",
        "outputId": "67968d01-2f7d-410e-fc6d-9176d7276f51"
      },
      "execution_count": 47,
      "outputs": [
        {
          "output_type": "stream",
          "name": "stdout",
          "text": [
            "Accuracy of the network on the 10000 test images: 97.92 %\n"
          ]
        },
        {
          "output_type": "execute_result",
          "data": {
            "text/plain": [
              "97.92"
            ]
          },
          "metadata": {},
          "execution_count": 47
        }
      ]
    },
    {
      "metadata": {
        "id": "g8f5kfBjfGDL"
      },
      "cell_type": "code",
      "source": [
        "# Save the model checkpoint\n",
        "torch.save(model.state_dict(), 'model.ckpt')"
      ],
      "execution_count": 48,
      "outputs": []
    },
    {
      "metadata": {
        "id": "pCYpDfGyfydT"
      },
      "cell_type": "code",
      "source": [],
      "execution_count": 48,
      "outputs": []
    },
    {
      "cell_type": "markdown",
      "source": [
        "### Explanation of the code\n",
        "\n",
        "This script does the following:\n",
        "\n",
        "- Generates a synthetic dataset with 1000 samples where each sample has 784 features (like flattened images) and belongs to one of 10 classes.\n",
        "- Defines a `DataLoader` for batch processing, which is essential for efficient training over large datasets.\n",
        "- Sets up a training loop that iterates over the dataset in mini-batches, performs the forward pass to compute the output and loss, performs the backward pass to compute gradients, and updates the model parameters.\n",
        "\n",
        "Replace the synthetic dataset with your actual data. If you're using a well-known dataset like MNIST, PyTorch's `torchvision` library provides convenient methods to download and load these datasets in a ready-to-use format.\n",
        "\n",
        "Remember, the actual performance and the necessity of tuning hyperparameters such as the learning rate, the size of the hidden layers, and the batch size depend on the specific characteristics of your dataset and the complexity of the problem you're trying to solve."
      ],
      "metadata": {
        "id": "tkdUXmoCdszs"
      }
    },
    {
      "cell_type": "code",
      "source": [],
      "metadata": {
        "id": "WF1LcUT1dt9v"
      },
      "execution_count": null,
      "outputs": []
    }
  ]
}